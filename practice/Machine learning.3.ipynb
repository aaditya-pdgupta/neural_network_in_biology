{
 "cells": [
  {
   "cell_type": "markdown",
   "id": "bd41ae5e",
   "metadata": {},
   "source": [
    "### Here,  importing the numpy as np helps user to work with arrays and work in  domain of linear algebra. Importing matplot helps us to plot the graph. Random returns a random floating number between 0 & 1. Importing pandas as pd helps in data processing. Dataframe helps in keeping all the data in table form. "
   ]
  },
  {
   "cell_type": "code",
   "execution_count": 33,
   "id": "a7167c3a",
   "metadata": {},
   "outputs": [],
   "source": [
    "import numpy as np # linear algebra\n",
    "import matplotlib\n",
    "import matplotlib.pyplot as plt\n",
    "import random\n",
    "import pandas as pd # data processing, CSV file I/O (e.g. pd.read_csv)\n",
    "from pandas import DataFrame"
   ]
  },
  {
   "cell_type": "markdown",
   "id": "8eed772a",
   "metadata": {},
   "source": [
    "### Importing tensorflow allows developer to create dataflow graphs-structures that describes how data moves through a graph or a series of processing nodes. A sequential model helps you to create models layer by layer for most problem. Input takes the data for different layers. Dense layer is asimple layer of neurons in which each neuron recieves input from all the neurons of previous layer. BatchNormalization layer allows us to set each parameters independently. Dropout layer importing helps in stting input units to 0 with a frequency of rate at each step during training time. Importing metrics is used to judge the performance of our model. "
   ]
  },
  {
   "cell_type": "code",
   "execution_count": 34,
   "id": "443f67df",
   "metadata": {},
   "outputs": [],
   "source": [
    "import tensorflow \n",
    "from tensorflow.keras.models import Sequential\n",
    "from tensorflow.keras.layers import Input\n",
    "from tensorflow.keras.layers import Dense\n",
    "from tensorflow.keras.layers import BatchNormalization\n",
    "from tensorflow.keras.layers import Dropout\n",
    "from tensorflow.keras.models import Model\n",
    "from tensorflow.keras import metrics\n",
    "from tensorflow.keras.optimizers import SGD\n",
    "from tensorflow.keras.utils import plot_model"
   ]
  },
  {
   "cell_type": "code",
   "execution_count": 35,
   "id": "ded6da8f",
   "metadata": {},
   "outputs": [],
   "source": [
    "import sklearn\n",
    "from sklearn.preprocessing import StandardScaler\n",
    "from sklearn.metrics import roc_curve, auc\n",
    "from sklearn.model_selection import train_test_split\n",
    "from sklearn.ensemble import ExtraTreesClassifier"
   ]
  },
  {
   "cell_type": "code",
   "execution_count": 36,
   "id": "ae2d2205",
   "metadata": {},
   "outputs": [],
   "source": [
    "## training and test datasets\n",
    "\n",
    "#data_train = pd.read_csv('/home/kanhaiya/neural_network_biology/train_ann_term.csv')\n",
    "#data_test = pd.read_csv('/home/kanhaiya/neural_network_biology/test_ann_term.csv')\n",
    "data_train = pd.read_csv('../train_ann_term.csv')\n",
    "data_test = pd.read_csv('../test_ann_term.csv')"
   ]
  },
  {
   "cell_type": "code",
   "execution_count": 37,
   "id": "56106243",
   "metadata": {},
   "outputs": [
    {
     "name": "stdout",
     "output_type": "stream",
     "text": [
      "       class  lepton_pT  lepton_eta  lepton_phi  missing_energy_magnitude  \\\n",
      "0          1   0.907542    0.329147    0.359412                  1.497970   \n",
      "1          1   0.798835    1.470639   -1.635975                  0.453773   \n",
      "2          0   1.344385   -0.876626    0.935913                  1.992050   \n",
      "3          0   1.595839   -0.607811    0.007075                  1.818450   \n",
      "4          1   0.409391   -1.884684   -1.027292                  1.672452   \n",
      "...      ...        ...         ...         ...                       ...   \n",
      "68631      0   0.631747   -1.732745    0.734498                  0.647226   \n",
      "68632      0   0.967752   -0.317568   -1.579379                  0.512029   \n",
      "68633      1   0.908091   -0.825006   -0.830871                  0.736298   \n",
      "68634      0   0.903699    0.261943   -0.429149                  1.892855   \n",
      "68635      0   0.566047   -0.317568    0.062561                  0.358186   \n",
      "\n",
      "       missing_energy_phi    jet1pt   jet1eta   jet1phi  jet1b.tag  ...  \\\n",
      "0               -0.313010  1.095531 -0.557525 -1.588230   2.173076  ...   \n",
      "1                0.425629  1.104875  1.282322  1.381664   0.000000  ...   \n",
      "2                0.882454  1.786066 -1.646778 -0.942383   0.000000  ...   \n",
      "3               -0.111906  0.847550 -0.566437  1.581239   2.173076  ...   \n",
      "4               -1.604598  1.338015  0.055427  0.013466   2.173076  ...   \n",
      "...                   ...       ...       ...       ...        ...  ...   \n",
      "68631           -0.795422  0.768035  0.966439  0.950915   0.000000  ...   \n",
      "68632            0.764061  0.684489 -0.537720 -0.855346   0.000000  ...   \n",
      "68633            1.512713  0.881811 -0.363440  0.006813   1.086538  ...   \n",
      "68634            0.313687  0.493397 -1.494282 -1.458506   0.000000  ...   \n",
      "68635           -1.315823  0.691176  1.154583 -0.242759   2.173076  ...   \n",
      "\n",
      "        jet4phi  jet4b.tag      m_jj     m_jjj      m_lv     m_jlv      m_bb  \\\n",
      "0     -0.000819   0.000000  0.302220  0.833048  0.985700  0.978098  0.779732   \n",
      "1      0.900461   0.000000  0.909753  1.108330  0.985692  0.951331  0.803252   \n",
      "2     -1.360356   0.000000  0.946652  1.028704  0.998656  0.728281  0.869200   \n",
      "3     -1.274345   3.101961  0.823761  0.938191  0.971758  0.789176  0.430553   \n",
      "4      1.377130   3.101961  0.869418  1.222083  1.000627  0.545045  0.698653   \n",
      "...         ...        ...       ...       ...       ...       ...       ...   \n",
      "68631 -0.501350   3.101961  1.843042  1.384108  0.989323  0.978744  0.467157   \n",
      "68632  0.239561   3.101961  2.000598  1.331450  0.985605  0.880876  0.899824   \n",
      "68633  0.716785   0.000000  1.317681  1.010795  0.985962  0.957878  1.454672   \n",
      "68634  1.110772   3.101961  0.527038  0.607263  1.125286  0.634107  0.115543   \n",
      "68635 -0.294922   0.000000  0.747239  1.008975  0.989497  1.203147  0.892492   \n",
      "\n",
      "          m_wbb    m_wwbb     id  \n",
      "0      0.992356  0.798343      1  \n",
      "1      0.865924  0.780118      2  \n",
      "2      1.026736  0.957904      3  \n",
      "3      0.961357  0.957818      4  \n",
      "4      0.977314  0.828786      5  \n",
      "...         ...       ...    ...  \n",
      "68631  1.412571  2.054788  68632  \n",
      "68632  0.978647  0.915264  68633  \n",
      "68633  0.903937  0.786069  68634  \n",
      "68634  0.425828  0.692506  68635  \n",
      "68635  1.090807  0.888965  68636  \n",
      "\n",
      "[68636 rows x 30 columns]\n"
     ]
    }
   ],
   "source": [
    "print(data_train)"
   ]
  },
  {
   "cell_type": "code",
   "execution_count": 38,
   "id": "092c6ebc",
   "metadata": {},
   "outputs": [],
   "source": [
    "feature_names = data_train.columns[1:-1]  # we skip the first and last column"
   ]
  },
  {
   "cell_type": "code",
   "execution_count": 39,
   "id": "acfa4cd9",
   "metadata": {},
   "outputs": [],
   "source": [
    "# initialize the model parameters\n",
    "\n",
    "variables = data_train.columns[1:-1]  # we skip the first and last column\n",
    "target_training = None\n",
    "discriminator_history = None\n",
    "sample_training = None\n",
    "sample_validation = None"
   ]
  },
  {
   "cell_type": "markdown",
   "id": "1993037e",
   "metadata": {},
   "source": [
    "###  Seed in python is used to initialize the random number generator or simply to generate a random number. The discriminator is a model with a one-dimensional input and a one-dimensional output. It willl recieve a sample from the real data or from the generator and will provide the probability that the sample belongs to real training data. A layer is a data-processing module that takes as input one or more tensors and that outputs one or more tensors. Epochs indicates the number of passes of the entire training dataset the machine learning algorithm has completed. Here, dropout is used to prevent a model from overfitting. Fraction is used to provides support for rational number arithmetic. Batch size refers to the number of training examples utilized in one iteration. An optimizer is a function or an algorithm that modifies the attributes of the neural network, such as weights and learning rate. SGD stands for Stochastic Gradient Descent whic is an optimization algorithm often used to find the best fit between predicted and actual outputs.    "
   ]
  },
  {
   "cell_type": "code",
   "execution_count": 40,
   "id": "0039dcf5",
   "metadata": {},
   "outputs": [],
   "source": [
    "seed = 193 #generates a random number\n",
    "discriminator_nodes =  16 # 20\n",
    "discriminator_layers = 1\n",
    "discriminator_epochs = 1\n",
    "validation_fraction = 0.4\n",
    "discriminator_dropout =  0.4\n",
    "        \n",
    "batchSize = 128 # 512\n",
    "discriminator_optimizer = SGD(lr =0.01)\n",
    "discriminator_history_array = []"
   ]
  },
  {
   "cell_type": "code",
   "execution_count": 41,
   "id": "a4c1044a",
   "metadata": {},
   "outputs": [],
   "source": [
    "neural_network_input_dimension = variables.shape\n",
    "\n",
    "\n",
    "weight_train = np.reshape([random.random()/10 for i in range(len(data_train))], (len(data_train), 1))\n",
    "weight_test = np.reshape([random.random()/10 for i in range(len(data_test))], (len(data_test), 1))\n",
    "target_training = data_train[\"class\"]\n",
    "target_validation = data_test[\"class\"]\n",
    "sample_training = data_train[feature_names]\n",
    "sample_validation = data_test[feature_names]\n"
   ]
  },
  {
   "cell_type": "code",
   "execution_count": 42,
   "id": "3a5a0922",
   "metadata": {},
   "outputs": [],
   "source": [
    "# Scaling the sample data \n",
    "scaler = StandardScaler()\n",
    "sample_training_scaled = scaler.fit_transform(sample_training)\n",
    "sample_validation_scaled = scaler.fit_transform(sample_validation)\n",
    "\n",
    "# Making the table of the data using DataFrame\n",
    "\n",
    "sample_training_scaled = DataFrame(sample_training_scaled)\n",
    "sample_validation_scaled = DataFrame(sample_validation_scaled)\n",
    "\n",
    "        # Renaming the name of the columns after scaling \n",
    "sample_training_scaled.columns = sample_training.columns\n",
    "sample_validation_scaled.columns = sample_validation.columns\n",
    "        \n",
    "# Including the target training and validation output by adding one more column\n",
    "\n",
    "sample_training_scaled['target_training'] = target_training\n",
    "sample_validation_scaled['target_validation'] = target_validation\n",
    "        \n",
    "#print(sample_training_scaled)  # to see the data"
   ]
  },
  {
   "cell_type": "code",
   "execution_count": 23,
   "id": "7a852209",
   "metadata": {},
   "outputs": [
    {
     "name": "stdout",
     "output_type": "stream",
     "text": [
      "Model: \"model_1\"\n",
      "_________________________________________________________________\n",
      "Layer (type)                 Output Shape              Param #   \n",
      "=================================================================\n",
      "input_2 (InputLayer)         [(None, 28)]              0         \n",
      "_________________________________________________________________\n",
      "HiddenLayer (Dense)          (None, 16)                464       \n",
      "_________________________________________________________________\n",
      "dense_1 (Dense)              (None, 1)                 17        \n",
      "=================================================================\n",
      "Total params: 481\n",
      "Trainable params: 481\n",
      "Non-trainable params: 0\n",
      "_________________________________________________________________\n",
      "('Failed to import pydot. You must `pip install pydot` and install graphviz (https://graphviz.gitlab.io/download/), ', 'for `pydotprint` to work.')\n"
     ]
    }
   ],
   "source": [
    "# Create the model \n",
    "\n",
    "network_input = Input( shape = (neural_network_input_dimension))\n",
    "neural_network_layer = Dense(discriminator_nodes, activation = \"elu\", name=\"HiddenLayer\")(network_input)\n",
    "neural_network_layer = Dense(1, activation = \"sigmoid\")(neural_network_layer)\n",
    "        \n",
    "model = Model(inputs=network_input, outputs= neural_network_layer)\n",
    "model.summary()\n",
    "plot_model(model, to_file='neural_network_graph.pdf')"
   ]
  },
  {
   "cell_type": "code",
   "execution_count": 24,
   "id": "299df819",
   "metadata": {},
   "outputs": [],
   "source": [
    "# compile_model\n",
    "\n",
    "model.compile(loss = \"binary_crossentropy\", weighted_metrics = [metrics.binary_accuracy], optimizer = \"adam\", metrics=['accuracy'])"
   ]
  },
  {
   "cell_type": "code",
   "execution_count": 25,
   "id": "145458fb",
   "metadata": {},
   "outputs": [
    {
     "name": "stdout",
     "output_type": "stream",
     "text": [
      "537/537 [==============================] - 7s 12ms/step - loss: 0.0349 - accuracy: 0.5513 - binary_accuracy: 0.5521 - val_loss: 0.0330 - val_accuracy: 0.6031 - val_binary_accuracy: 0.6026\n"
     ]
    }
   ],
   "source": [
    "# fit_model\n",
    "\n",
    "discriminator_history = model.fit(sample_training, target_training.ravel(), epochs=discriminator_epochs, batch_size = batchSize, sample_weight = weight_train.ravel(), validation_data = (sample_validation, target_validation, weight_test.ravel()))\n",
    "discriminator_history_array.append(discriminator_history)"
   ]
  },
  {
   "cell_type": "code",
   "execution_count": 26,
   "id": "e0b218b8",
   "metadata": {},
   "outputs": [],
   "source": [
    "# predict_model\n",
    "\n",
    "model_prediction = model.predict(sample_validation).ravel()\n",
    "model_val_prediction = model.predict(sample_training).ravel()\n",
    "\n",
    "\n",
    "fpr, tpr, threshold = roc_curve(target_validation, model_prediction)\n",
    "fpr_2, tpr_2, threshold_2 = roc_curve(target_training, model_val_prediction)\n",
    "auc_1 = auc(fpr, tpr)\n",
    "auc_2 = auc(fpr_2, tpr_2)"
   ]
  },
  {
   "cell_type": "code",
   "execution_count": 27,
   "id": "d4db3157",
   "metadata": {},
   "outputs": [
    {
     "data": {
      "image/png": "[encoded data removed]",
      "text/plain": [
       "<Figure size 432x288 with 1 Axes>"
      ]
     },
     "metadata": {
      "needs_background": "light"
     },
     "output_type": "display_data"
    }
   ],
   "source": [
    "# plotLosses\n",
    "\n",
    "plt.plot(discriminator_history.history['loss'])\n",
    "plt.plot(discriminator_history.history['val_loss'])\n",
    "plt.title('Discriminator Losses',fontsize='large')\n",
    "plt.ylabel('Loss',fontsize='large')\n",
    "plt.xlabel('Epoch',fontsize='large')\n",
    "plt.xlim(0,discriminator_epochs)\n",
    "plt.legend(['Train', 'Test'], loc='upper left')\n",
    "plt.savefig('losses.pdf')"
   ]
  },
  {
   "cell_type": "code",
   "execution_count": 30,
   "id": "af123900",
   "metadata": {},
   "outputs": [
    {
     "data": {
      "image/png": "[encoded data removed]",
      "text/plain": [
       "<Figure size 432x288 with 1 Axes>"
      ]
     },
     "metadata": {
      "needs_background": "light"
     },
     "output_type": "display_data"
    }
   ],
   "source": [
    "# plotRoc\n",
    "\n",
    "plt.title('Receiver Operating Characteristic',fontsize='large')\n",
    "plt.plot(fpr_2, tpr_2, 'g--', label='Train AUC = %0.2f'% auc_2)\n",
    "plt.plot(fpr, tpr, 'b', label='Test AUC = %0.2f'% auc_1)\n",
    "plt.legend(loc='lower right')\n",
    "plt.plot([0,1],[0,1],'r--')\n",
    "plt.xlim([-0.,1.])\n",
    "plt.ylim([-0.,1.])\n",
    "plt.ylabel('True Positive Rate', fontsize='large')\n",
    "plt.xlabel('False Positive Rate', fontsize='large')\n",
    "plt.legend(frameon=False)\n",
    "plt.savefig('roc.pdf')"
   ]
  },
  {
   "cell_type": "code",
   "execution_count": 31,
   "id": "62183887",
   "metadata": {},
   "outputs": [
    {
     "data": {
      "image/png": "[encoded data removed]",
      "text/plain": [
       "<Figure size 432x288 with 1 Axes>"
      ]
     },
     "metadata": {
      "needs_background": "light"
     },
     "output_type": "display_data"
    }
   ],
   "source": [
    "# plotAccuracy\n",
    "\n",
    "plt.plot(discriminator_history.history['accuracy'])\n",
    "plt.plot(discriminator_history.history['val_accuracy'])\n",
    "plt.title('Model accuracy',fontsize='large')\n",
    "plt.ylabel('Accuracy',fontsize='large')\n",
    "plt.xlabel('Epoch',fontsize='large')\n",
    "plt.legend(['Train', 'Test'], loc='upper left')\n",
    "plt.savefig('acc.pdf')"
   ]
  },
  {
   "cell_type": "code",
   "execution_count": 32,
   "id": "453a142e",
   "metadata": {},
   "outputs": [
    {
     "data": {
      "image/png": "[encoded data removed]",
      "text/plain": [
       "<Figure size 432x288 with 1 Axes>"
      ]
     },
     "metadata": {
      "needs_background": "light"
     },
     "output_type": "display_data"
    },
    {
     "data": {
      "text/plain": [
       "<Figure size 432x288 with 0 Axes>"
      ]
     },
     "metadata": {},
     "output_type": "display_data"
    }
   ],
   "source": [
    "# plotSeparation\n",
    "\n",
    "signal_histo = []\n",
    "background_histo = []\n",
    "signal_histo_train = []\n",
    "background_histo_train = []\n",
    "for i in range(len(sample_validation)):\n",
    "    if target_validation[i] == 1:\n",
    "        signal_histo.append(model_prediction[i])\n",
    "    if target_validation[i] == 0:\n",
    "        background_histo.append(model_prediction[i])\n",
    "for i in range(len(sample_training)):\n",
    "    if target_training[i] == 1:\n",
    "        signal_histo_train.append(model_val_prediction[i])\n",
    "    if target_training[i] == 0:\n",
    "        background_histo_train.append(model_val_prediction[i])\n",
    "        \n",
    "plt.hist(signal_histo_train, range=[0., 1.], linewidth = 2, bins=30, histtype=\"step\", density = True, label = \"Signal_train\")\n",
    "plt.hist(background_histo_train, range=[0., 1.], linewidth = 2, bins=30, histtype=\"step\", density = True, label = \"Background_train\")\n",
    "plt.hist(signal_histo, range=[0., 1.], linewidth = 2, bins=30, histtype=\"step\", density = True, linestyle='dashed',  label = \"Signal_test\")\n",
    "plt.hist(background_histo, range=[0., 1.], linewidth = 2, bins=30, histtype=\"step\", density = True, linestyle='dashed', label = \"Background_test\")\n",
    "        \n",
    "plt.legend()\n",
    "plt.title('Network response',fontsize='large')\n",
    "plt.xticks([0.0,0.5,1.0],[\"Background\",\"\",\"Signal\"],rotation=0)\n",
    "# plt.xlabel('Network response', horizontalalignment='left', fontsize='large')\n",
    "plt.ylabel('Event fraction', fontsize='large')\n",
    "plt.legend(frameon=False)\n",
    "plt.show()\n",
    "plt.savefig('separation_discriminator.pdf')"
   ]
  },
  {
   "cell_type": "code",
   "execution_count": null,
   "id": "e3b26003",
   "metadata": {},
   "outputs": [],
   "source": []
  }
 ],
 "metadata": {
  "kernelspec": {
   "display_name": "Python 3 (ipykernel)",
   "language": "python",
   "name": "python3"
  },
  "language_info": {
   "codemirror_mode": {
    "name": "ipython",
    "version": 3
   },
   "file_extension": ".py",
   "mimetype": "text/x-python",
   "name": "python",
   "nbconvert_exporter": "python",
   "pygments_lexer": "ipython3",
   "version": "3.9.12"
  }
 },
 "nbformat": 4,
 "nbformat_minor": 5
}
