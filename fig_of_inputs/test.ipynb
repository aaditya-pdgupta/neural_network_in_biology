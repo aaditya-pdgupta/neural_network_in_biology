{
 "cells": [
  {
   "cell_type": "code",
   "execution_count": 87,
   "id": "fd3fc56f",
   "metadata": {},
   "outputs": [],
   "source": [
    "import numpy as np # linear algebra\n",
    "import matplotlib\n",
    "import matplotlib.pyplot as plt\n",
    "import random\n",
    "import pandas as pd # data processing, CSV file I/O (e.g. pd.read_csv)\n",
    "from pandas import DataFrame\n",
    "import plotly.graph_objects as go\n",
    "from plotly.offline import init_notebook_mode,iplot\n",
    "from plotly import tools\n",
    "import seaborn as sns\n",
    "import os\n",
    "import plotly.express as px"
   ]
  },
  {
   "cell_type": "code",
   "execution_count": 88,
   "id": "9e426aa0",
   "metadata": {},
   "outputs": [
    {
     "data": {
      "text/plain": [
       "(8124, 23)"
      ]
     },
     "execution_count": 88,
     "metadata": {},
     "output_type": "execute_result"
    }
   ],
   "source": [
    "data=pd.read_csv('../data/mushrooms.csv') # we have inserted our data\n",
    "data.shape"
   ]
  },
  {
   "cell_type": "code",
   "execution_count": 89,
   "id": "6e93b872",
   "metadata": {},
   "outputs": [
    {
     "data": {
      "text/html": [
       "<div>\n",
       "<style scoped>\n",
       "    .dataframe tbody tr th:only-of-type {\n",
       "        vertical-align: middle;\n",
       "    }\n",
       "\n",
       "    .dataframe tbody tr th {\n",
       "        vertical-align: top;\n",
       "    }\n",
       "\n",
       "    .dataframe thead th {\n",
       "        text-align: right;\n",
       "    }\n",
       "</style>\n",
       "<table border=\"1\" class=\"dataframe\">\n",
       "  <thead>\n",
       "    <tr style=\"text-align: right;\">\n",
       "      <th></th>\n",
       "      <th>class</th>\n",
       "      <th>cap-shape</th>\n",
       "      <th>cap-surface</th>\n",
       "      <th>cap-color</th>\n",
       "      <th>bruises</th>\n",
       "      <th>odor</th>\n",
       "      <th>gill-attachment</th>\n",
       "      <th>gill-spacing</th>\n",
       "      <th>gill-size</th>\n",
       "      <th>gill-color</th>\n",
       "      <th>...</th>\n",
       "      <th>stalk-surface-below-ring</th>\n",
       "      <th>stalk-color-above-ring</th>\n",
       "      <th>stalk-color-below-ring</th>\n",
       "      <th>veil-type</th>\n",
       "      <th>veil-color</th>\n",
       "      <th>ring-number</th>\n",
       "      <th>ring-type</th>\n",
       "      <th>spore-print-color</th>\n",
       "      <th>population</th>\n",
       "      <th>habitat</th>\n",
       "    </tr>\n",
       "  </thead>\n",
       "  <tbody>\n",
       "    <tr>\n",
       "      <th>0</th>\n",
       "      <td>p</td>\n",
       "      <td>x</td>\n",
       "      <td>s</td>\n",
       "      <td>n</td>\n",
       "      <td>t</td>\n",
       "      <td>p</td>\n",
       "      <td>f</td>\n",
       "      <td>c</td>\n",
       "      <td>n</td>\n",
       "      <td>k</td>\n",
       "      <td>...</td>\n",
       "      <td>s</td>\n",
       "      <td>w</td>\n",
       "      <td>w</td>\n",
       "      <td>p</td>\n",
       "      <td>w</td>\n",
       "      <td>o</td>\n",
       "      <td>p</td>\n",
       "      <td>k</td>\n",
       "      <td>s</td>\n",
       "      <td>u</td>\n",
       "    </tr>\n",
       "    <tr>\n",
       "      <th>1</th>\n",
       "      <td>e</td>\n",
       "      <td>x</td>\n",
       "      <td>s</td>\n",
       "      <td>y</td>\n",
       "      <td>t</td>\n",
       "      <td>a</td>\n",
       "      <td>f</td>\n",
       "      <td>c</td>\n",
       "      <td>b</td>\n",
       "      <td>k</td>\n",
       "      <td>...</td>\n",
       "      <td>s</td>\n",
       "      <td>w</td>\n",
       "      <td>w</td>\n",
       "      <td>p</td>\n",
       "      <td>w</td>\n",
       "      <td>o</td>\n",
       "      <td>p</td>\n",
       "      <td>n</td>\n",
       "      <td>n</td>\n",
       "      <td>g</td>\n",
       "    </tr>\n",
       "    <tr>\n",
       "      <th>2</th>\n",
       "      <td>e</td>\n",
       "      <td>b</td>\n",
       "      <td>s</td>\n",
       "      <td>w</td>\n",
       "      <td>t</td>\n",
       "      <td>l</td>\n",
       "      <td>f</td>\n",
       "      <td>c</td>\n",
       "      <td>b</td>\n",
       "      <td>n</td>\n",
       "      <td>...</td>\n",
       "      <td>s</td>\n",
       "      <td>w</td>\n",
       "      <td>w</td>\n",
       "      <td>p</td>\n",
       "      <td>w</td>\n",
       "      <td>o</td>\n",
       "      <td>p</td>\n",
       "      <td>n</td>\n",
       "      <td>n</td>\n",
       "      <td>m</td>\n",
       "    </tr>\n",
       "    <tr>\n",
       "      <th>3</th>\n",
       "      <td>p</td>\n",
       "      <td>x</td>\n",
       "      <td>y</td>\n",
       "      <td>w</td>\n",
       "      <td>t</td>\n",
       "      <td>p</td>\n",
       "      <td>f</td>\n",
       "      <td>c</td>\n",
       "      <td>n</td>\n",
       "      <td>n</td>\n",
       "      <td>...</td>\n",
       "      <td>s</td>\n",
       "      <td>w</td>\n",
       "      <td>w</td>\n",
       "      <td>p</td>\n",
       "      <td>w</td>\n",
       "      <td>o</td>\n",
       "      <td>p</td>\n",
       "      <td>k</td>\n",
       "      <td>s</td>\n",
       "      <td>u</td>\n",
       "    </tr>\n",
       "    <tr>\n",
       "      <th>4</th>\n",
       "      <td>e</td>\n",
       "      <td>x</td>\n",
       "      <td>s</td>\n",
       "      <td>g</td>\n",
       "      <td>f</td>\n",
       "      <td>n</td>\n",
       "      <td>f</td>\n",
       "      <td>w</td>\n",
       "      <td>b</td>\n",
       "      <td>k</td>\n",
       "      <td>...</td>\n",
       "      <td>s</td>\n",
       "      <td>w</td>\n",
       "      <td>w</td>\n",
       "      <td>p</td>\n",
       "      <td>w</td>\n",
       "      <td>o</td>\n",
       "      <td>e</td>\n",
       "      <td>n</td>\n",
       "      <td>a</td>\n",
       "      <td>g</td>\n",
       "    </tr>\n",
       "  </tbody>\n",
       "</table>\n",
       "<p>5 rows × 23 columns</p>\n",
       "</div>"
      ],
      "text/plain": [
       "  class cap-shape cap-surface cap-color bruises odor gill-attachment  \\\n",
       "0     p         x           s         n       t    p               f   \n",
       "1     e         x           s         y       t    a               f   \n",
       "2     e         b           s         w       t    l               f   \n",
       "3     p         x           y         w       t    p               f   \n",
       "4     e         x           s         g       f    n               f   \n",
       "\n",
       "  gill-spacing gill-size gill-color  ... stalk-surface-below-ring  \\\n",
       "0            c         n          k  ...                        s   \n",
       "1            c         b          k  ...                        s   \n",
       "2            c         b          n  ...                        s   \n",
       "3            c         n          n  ...                        s   \n",
       "4            w         b          k  ...                        s   \n",
       "\n",
       "  stalk-color-above-ring stalk-color-below-ring veil-type veil-color  \\\n",
       "0                      w                      w         p          w   \n",
       "1                      w                      w         p          w   \n",
       "2                      w                      w         p          w   \n",
       "3                      w                      w         p          w   \n",
       "4                      w                      w         p          w   \n",
       "\n",
       "  ring-number ring-type spore-print-color population habitat  \n",
       "0           o         p                 k          s       u  \n",
       "1           o         p                 n          n       g  \n",
       "2           o         p                 n          n       m  \n",
       "3           o         p                 k          s       u  \n",
       "4           o         e                 n          a       g  \n",
       "\n",
       "[5 rows x 23 columns]"
      ]
     },
     "execution_count": 89,
     "metadata": {},
     "output_type": "execute_result"
    }
   ],
   "source": [
    "data.head(5) # usingg head will print desire number of row as in this we need 5.\n"
   ]
  },
  {
   "cell_type": "code",
   "execution_count": 90,
   "id": "1444df01",
   "metadata": {},
   "outputs": [],
   "source": [
    "values={\"b\":\"bell\",\"c\":\"conical\",\"x\":\"convex\",\"f\":\"flat\",\"k\":\"knobbed\",\"s\":\"sunken\"}\n",
    "data[\"cap-shape\"]=data[\"cap-shape\"].replace(values)\n",
    "values2={\"f\": \"fibrous\", \"g\": \"grooves\",\"y\":\"scaly\",\"s\": \"smooth\"}\n",
    "data[\"cap-surface\"]=data[\"cap-surface\"].replace(values2)\n",
    "values3={\"n\":\"brown\",\"b\":\"buff\",\"c\":\"cinnamon\",\"g\":\"gray\",\"r\":\"green\",\"p\":\"pink\",\"u\":\"purple\",\"e\":\"red\",\"w\":\"white\",\"y\":\"yellow\"}\n",
    "data[\"cap-color\"]=data[\"cap-color\"].replace(values3)\n",
    "values4={\"a\":\"almond\",\"l\":\"anise\",\"c\":\"creosote\",\"y\":\"fishy\",\"f\":\"foul\",\"m\":\"musty\",\"n\":\"none\",\"p\":\"pungent\",\"s\":\"spicy\"}\n",
    "data[\"odor\"]=data[\"odor\"].replace(values4)\n",
    "values5={\"a\":\"attached\",\"f\":\"free\"}\n",
    "data[\"gill-attachment\"]=data[\"gill-attachment\"].replace(values5)\n",
    "values6={\"c\":\"close\",\"w\":\"crowded\"}\n",
    "data[\"gill-spacing\"]=data[\"gill-spacing\"].replace(values6)\n",
    "values7={\"b\":\"broad\",\"n\":\"narrow\"}\n",
    "data[\"gill-size\"]=data[\"gill-size\"].replace(values7)\n",
    "values8={\"k\":\"black\",\"b\":\"buff\",\"n\":\"brown\",\"h\":\"chocolate\",\"g\":\"gray\",\"r\":\"green\",\"o\":\"orange\",\"p\":\"pink\",\"u\":\"purple\",\"e\":\"red\",\"w\":\"white\",\"y\":\"yellow\"}\n",
    "data[\"gill-color\"]=data[\"gill-color\"].replace(values8)\n",
    "values9={\"t\":\"tapering\",\"e\":\"enlarging\"}\n",
    "data[\"stalk-shape\"]=data[\"stalk-shape\"].replace(values9)\n",
    "values10={\"b\":\"bulbous\",\"c\":\"club\",\"e\":\"equal\",\"z\":\"rhizomorphs\",\"r\":\"rooted\",\"?\":\"missing\"}\n",
    "data[\"stalk-root\"]=data[\"stalk-root\"].replace(values10)\n",
    "values11={\"s\":\"smooth\",\"k\":\"silky\",\"f\":\"fibrous\",\"y\":\"scaly\"}\n",
    "data[\"stalk-surface-above-ring\"]=data[\"stalk-surface-above-ring\"].replace(values11)\n",
    "data[\"stalk-surface-below-ring\"]=data[\"stalk-surface-below-ring\"].replace(values11)\n",
    "values12={\"n\":\"brown\",\"b\":\"buff\",\"c\":\"cinnamon\",\"g\":\"gray\",\"p\":\"pink\",\"e\":\"red\",\"w\":\"white\",\"y\":\"yellow\",\"o\":\"orange\"}\n",
    "data[\"stalk-color-above-ring\"]=data[\"stalk-color-above-ring\"].replace(values12)\n",
    "data[\"stalk-color-below-ring\"]=data[\"stalk-color-below-ring\"].replace(values12)\n",
    "veil_type={\"p\":\"partial\",\"u\":\"universal\"} \n",
    "data[\"veil-type\"]=data[\"veil-type\"].replace(veil_type)\n",
    "veil_color={\"n\":\"brown\",\"o\":\"orange\",\"w\":\"white\",\"y\":\"yellow\"} \n",
    "data[\"veil-color\"]=data[\"veil-color\"].replace(veil_color)\n",
    "ring_number= {\"n\":\"none\",\"o\":\"one\",\"t\":\"two\"}\n",
    "data[\"ring-number\"]=data[\"ring-number\"].replace(ring_number)\n",
    "ring_type={\"c\":\"cobwebby\",\"e\":\"evanescent\",\"f\":\"flaring\",\"l\":\"large\",\"n\":\"none\",\"p\":\"pendant\",\"s\":\"sheathing\",\"z\":\"zone\"}\n",
    "data[\"ring-type\"]=data[\"ring-type\"].replace(ring_type)\n",
    "spore_print_color= {\"k\":\"black\",\"n\":\"brown\",\"b\":\"buff\",\"h\":\"chocolate\",\"r\":\"green\",\"o\":\"orange\",\"u\":\"purple\",\"w\":\"white\",\"y\":\"yellow\"}\n",
    "data[\"spore-print-color\"]=data[\"spore-print-color\"].replace(spore_print_color)\n",
    "population={\"a\":\"abundant\",\"c\":\"clustered\",\"n\":\"numerous\",\"s\":\"scattered\",\"v\":\"several\",\"y\":\"solitary\"}\n",
    "data[\"population\"]=data[\"population\"].replace(population)\n",
    "habitat={\"g\":\"grasses\",\"l\":\"leaves\",\"m\":\"meadows\",\"p\":\"paths\",\"u\":\"urban\",\"w\":\"waste\",\"d\":\"woods\"}\n",
    "data[\"habitat\"]=data[\"habitat\"].replace(habitat)\n",
    "bruises={\"t\":\"bruises\",\"f\":\"no\"}\n",
    "data[\"bruises\"]=data[\"bruises\"].replace(bruises)\n"
   ]
  },
  {
   "cell_type": "code",
   "execution_count": 91,
   "id": "6c6981fc",
   "metadata": {},
   "outputs": [
    {
     "data": {
      "text/html": [
       "<div>\n",
       "<style scoped>\n",
       "    .dataframe tbody tr th:only-of-type {\n",
       "        vertical-align: middle;\n",
       "    }\n",
       "\n",
       "    .dataframe tbody tr th {\n",
       "        vertical-align: top;\n",
       "    }\n",
       "\n",
       "    .dataframe thead th {\n",
       "        text-align: right;\n",
       "    }\n",
       "</style>\n",
       "<table border=\"1\" class=\"dataframe\">\n",
       "  <thead>\n",
       "    <tr style=\"text-align: right;\">\n",
       "      <th></th>\n",
       "      <th>class</th>\n",
       "      <th>cap-shape</th>\n",
       "      <th>cap-surface</th>\n",
       "      <th>cap-color</th>\n",
       "      <th>bruises</th>\n",
       "      <th>odor</th>\n",
       "      <th>gill-attachment</th>\n",
       "      <th>gill-spacing</th>\n",
       "      <th>gill-size</th>\n",
       "      <th>gill-color</th>\n",
       "      <th>...</th>\n",
       "      <th>stalk-surface-below-ring</th>\n",
       "      <th>stalk-color-above-ring</th>\n",
       "      <th>stalk-color-below-ring</th>\n",
       "      <th>veil-type</th>\n",
       "      <th>veil-color</th>\n",
       "      <th>ring-number</th>\n",
       "      <th>ring-type</th>\n",
       "      <th>spore-print-color</th>\n",
       "      <th>population</th>\n",
       "      <th>habitat</th>\n",
       "    </tr>\n",
       "  </thead>\n",
       "  <tbody>\n",
       "    <tr>\n",
       "      <th>0</th>\n",
       "      <td>p</td>\n",
       "      <td>convex</td>\n",
       "      <td>smooth</td>\n",
       "      <td>brown</td>\n",
       "      <td>bruises</td>\n",
       "      <td>pungent</td>\n",
       "      <td>free</td>\n",
       "      <td>close</td>\n",
       "      <td>narrow</td>\n",
       "      <td>black</td>\n",
       "      <td>...</td>\n",
       "      <td>smooth</td>\n",
       "      <td>white</td>\n",
       "      <td>white</td>\n",
       "      <td>partial</td>\n",
       "      <td>white</td>\n",
       "      <td>one</td>\n",
       "      <td>pendant</td>\n",
       "      <td>black</td>\n",
       "      <td>scattered</td>\n",
       "      <td>urban</td>\n",
       "    </tr>\n",
       "    <tr>\n",
       "      <th>1</th>\n",
       "      <td>e</td>\n",
       "      <td>convex</td>\n",
       "      <td>smooth</td>\n",
       "      <td>yellow</td>\n",
       "      <td>bruises</td>\n",
       "      <td>almond</td>\n",
       "      <td>free</td>\n",
       "      <td>close</td>\n",
       "      <td>broad</td>\n",
       "      <td>black</td>\n",
       "      <td>...</td>\n",
       "      <td>smooth</td>\n",
       "      <td>white</td>\n",
       "      <td>white</td>\n",
       "      <td>partial</td>\n",
       "      <td>white</td>\n",
       "      <td>one</td>\n",
       "      <td>pendant</td>\n",
       "      <td>brown</td>\n",
       "      <td>numerous</td>\n",
       "      <td>grasses</td>\n",
       "    </tr>\n",
       "    <tr>\n",
       "      <th>2</th>\n",
       "      <td>e</td>\n",
       "      <td>bell</td>\n",
       "      <td>smooth</td>\n",
       "      <td>white</td>\n",
       "      <td>bruises</td>\n",
       "      <td>anise</td>\n",
       "      <td>free</td>\n",
       "      <td>close</td>\n",
       "      <td>broad</td>\n",
       "      <td>brown</td>\n",
       "      <td>...</td>\n",
       "      <td>smooth</td>\n",
       "      <td>white</td>\n",
       "      <td>white</td>\n",
       "      <td>partial</td>\n",
       "      <td>white</td>\n",
       "      <td>one</td>\n",
       "      <td>pendant</td>\n",
       "      <td>brown</td>\n",
       "      <td>numerous</td>\n",
       "      <td>meadows</td>\n",
       "    </tr>\n",
       "    <tr>\n",
       "      <th>3</th>\n",
       "      <td>p</td>\n",
       "      <td>convex</td>\n",
       "      <td>scaly</td>\n",
       "      <td>white</td>\n",
       "      <td>bruises</td>\n",
       "      <td>pungent</td>\n",
       "      <td>free</td>\n",
       "      <td>close</td>\n",
       "      <td>narrow</td>\n",
       "      <td>brown</td>\n",
       "      <td>...</td>\n",
       "      <td>smooth</td>\n",
       "      <td>white</td>\n",
       "      <td>white</td>\n",
       "      <td>partial</td>\n",
       "      <td>white</td>\n",
       "      <td>one</td>\n",
       "      <td>pendant</td>\n",
       "      <td>black</td>\n",
       "      <td>scattered</td>\n",
       "      <td>urban</td>\n",
       "    </tr>\n",
       "    <tr>\n",
       "      <th>4</th>\n",
       "      <td>e</td>\n",
       "      <td>convex</td>\n",
       "      <td>smooth</td>\n",
       "      <td>gray</td>\n",
       "      <td>no</td>\n",
       "      <td>none</td>\n",
       "      <td>free</td>\n",
       "      <td>crowded</td>\n",
       "      <td>broad</td>\n",
       "      <td>black</td>\n",
       "      <td>...</td>\n",
       "      <td>smooth</td>\n",
       "      <td>white</td>\n",
       "      <td>white</td>\n",
       "      <td>partial</td>\n",
       "      <td>white</td>\n",
       "      <td>one</td>\n",
       "      <td>evanescent</td>\n",
       "      <td>brown</td>\n",
       "      <td>abundant</td>\n",
       "      <td>grasses</td>\n",
       "    </tr>\n",
       "  </tbody>\n",
       "</table>\n",
       "<p>5 rows × 23 columns</p>\n",
       "</div>"
      ],
      "text/plain": [
       "  class cap-shape cap-surface cap-color  bruises     odor gill-attachment  \\\n",
       "0     p    convex      smooth     brown  bruises  pungent            free   \n",
       "1     e    convex      smooth    yellow  bruises   almond            free   \n",
       "2     e      bell      smooth     white  bruises    anise            free   \n",
       "3     p    convex       scaly     white  bruises  pungent            free   \n",
       "4     e    convex      smooth      gray       no     none            free   \n",
       "\n",
       "  gill-spacing gill-size gill-color  ... stalk-surface-below-ring  \\\n",
       "0        close    narrow      black  ...                   smooth   \n",
       "1        close     broad      black  ...                   smooth   \n",
       "2        close     broad      brown  ...                   smooth   \n",
       "3        close    narrow      brown  ...                   smooth   \n",
       "4      crowded     broad      black  ...                   smooth   \n",
       "\n",
       "  stalk-color-above-ring stalk-color-below-ring veil-type veil-color  \\\n",
       "0                  white                  white   partial      white   \n",
       "1                  white                  white   partial      white   \n",
       "2                  white                  white   partial      white   \n",
       "3                  white                  white   partial      white   \n",
       "4                  white                  white   partial      white   \n",
       "\n",
       "  ring-number   ring-type spore-print-color population  habitat  \n",
       "0         one     pendant             black  scattered    urban  \n",
       "1         one     pendant             brown   numerous  grasses  \n",
       "2         one     pendant             brown   numerous  meadows  \n",
       "3         one     pendant             black  scattered    urban  \n",
       "4         one  evanescent             brown   abundant  grasses  \n",
       "\n",
       "[5 rows x 23 columns]"
      ]
     },
     "execution_count": 91,
     "metadata": {},
     "output_type": "execute_result"
    }
   ],
   "source": [
    "data.head()"
   ]
  },
  {
   "cell_type": "code",
   "execution_count": 92,
   "id": "2c5b283a",
   "metadata": {},
   "outputs": [],
   "source": [
    "edible=data[data[\"class\"]==\"e\"]\n",
    "poisonous=data[data[\"class\"]==\"p\"]\n"
   ]
  },
  {
   "cell_type": "code",
   "execution_count": 93,
   "id": "600de6a5",
   "metadata": {},
   "outputs": [],
   "source": [
    "edible=data[data[\"class\"]==\"e\"]\n",
    "poisonous=data[data[\"class\"]==\"p\"]\n"
   ]
  },
  {
   "cell_type": "code",
   "execution_count": 94,
   "id": "5e9ec82f",
   "metadata": {},
   "outputs": [],
   "source": [
    "\n",
    "\n",
    "values={\"b\":\"bell\",\"c\":\"conical\",\"x\":\"convex\",\"f\":\"flat\",\"k\":\"knobbed\",\"s\":\"sunken\"}\n",
    "data[\"cap-shape\"]=data[\"cap-shape\"].replace(values)\n",
    "values2={\"f\": \"fibrous\", \"g\": \"grooves\",\"y\":\"scaly\",\"s\": \"smooth\"}\n",
    "data[\"cap-surface\"]=data[\"cap-surface\"].replace(values2)\n",
    "values3={\"n\":\"brown\",\"b\":\"buff\",\"c\":\"cinnamon\",\"g\":\"gray\",\"r\":\"green\",\"p\":\"pink\",\"u\":\"purple\",\"e\":\"red\",\"w\":\"white\",\"y\":\"yellow\"}\n",
    "data[\"cap-color\"]=data[\"cap-color\"].replace(values3)\n",
    "values4={\"a\":\"almond\",\"l\":\"anise\",\"c\":\"creosote\",\"y\":\"fishy\",\"f\":\"foul\",\"m\":\"musty\",\"n\":\"none\",\"p\":\"pungent\",\"s\":\"spicy\"}\n",
    "data[\"odor\"]=data[\"odor\"].replace(values4)\n",
    "values5={\"a\":\"attached\",\"f\":\"free\"}\n",
    "data[\"gill-attachment\"]=data[\"gill-attachment\"].replace(values5)\n",
    "values6={\"c\":\"close\",\"w\":\"crowded\"}\n",
    "data[\"gill-spacing\"]=data[\"gill-spacing\"].replace(values6)\n",
    "values7={\"b\":\"broad\",\"n\":\"narrow\"}\n",
    "data[\"gill-size\"]=data[\"gill-size\"].replace(values7)\n",
    "values8={\"k\":\"black\",\"b\":\"buff\",\"n\":\"brown\",\"h\":\"chocolate\",\"g\":\"gray\",\"r\":\"green\",\"o\":\"orange\",\"p\":\"pink\",\"u\":\"purple\",\"e\":\"red\",\"w\":\"white\",\"y\":\"yellow\"}\n",
    "data[\"gill-color\"]=data[\"gill-color\"].replace(values8)\n",
    "values9={\"t\":\"tapering\",\"e\":\"enlarging\"}\n",
    "data[\"stalk-shape\"]=data[\"stalk-shape\"].replace(values9)\n",
    "values10={\"b\":\"bulbous\",\"c\":\"club\",\"e\":\"equal\",\"z\":\"rhizomorphs\",\"r\":\"rooted\",\"?\":\"missing\"}\n",
    "data[\"stalk-root\"]=data[\"stalk-root\"].replace(values10)\n",
    "values11={\"s\":\"smooth\",\"k\":\"silky\",\"f\":\"fibrous\",\"y\":\"scaly\"}\n",
    "data[\"stalk-surface-above-ring\"]=data[\"stalk-surface-above-ring\"].replace(values11)\n",
    "data[\"stalk-surface-below-ring\"]=data[\"stalk-surface-below-ring\"].replace(values11)\n",
    "values12={\"n\":\"brown\",\"b\":\"buff\",\"c\":\"cinnamon\",\"g\":\"gray\",\"p\":\"pink\",\"e\":\"red\",\"w\":\"white\",\"y\":\"yellow\",\"o\":\"orange\"}\n",
    "data[\"stalk-color-above-ring\"]=data[\"stalk-color-above-ring\"].replace(values12)\n",
    "data[\"stalk-color-below-ring\"]=data[\"stalk-color-below-ring\"].replace(values12)\n",
    "veil_type={\"p\":\"partial\",\"u\":\"universal\"} \n",
    "data[\"veil-type\"]=data[\"veil-type\"].replace(veil_type)\n",
    "veil_color={\"n\":\"brown\",\"o\":\"orange\",\"w\":\"white\",\"y\":\"yellow\"} \n",
    "data[\"veil-color\"]=data[\"veil-color\"].replace(veil_color)\n",
    "ring_number= {\"n\":\"none\",\"o\":\"one\",\"t\":\"two\"}\n",
    "data[\"ring-number\"]=data[\"ring-number\"].replace(ring_number)\n",
    "ring_type={\"c\":\"cobwebby\",\"e\":\"evanescent\",\"f\":\"flaring\",\"l\":\"large\",\"n\":\"none\",\"p\":\"pendant\",\"s\":\"sheathing\",\"z\":\"zone\"}\n",
    "data[\"ring-type\"]=data[\"ring-type\"].replace(ring_type)\n",
    "spore_print_color= {\"k\":\"black\",\"n\":\"brown\",\"b\":\"buff\",\"h\":\"chocolate\",\"r\":\"green\",\"o\":\"orange\",\"u\":\"purple\",\"w\":\"white\",\"y\":\"yellow\"}\n",
    "data[\"spore-print-color\"]=data[\"spore-print-color\"].replace(spore_print_color)\n",
    "population={\"a\":\"abundant\",\"c\":\"clustered\",\"n\":\"numerous\",\"s\":\"scattered\",\"v\":\"several\",\"y\":\"solitary\"}\n",
    "data[\"population\"]=data[\"population\"].replace(population)\n",
    "habitat={\"g\":\"grasses\",\"l\":\"leaves\",\"m\":\"meadows\",\"p\":\"paths\",\"u\":\"urban\",\"w\":\"waste\",\"d\":\"woods\"}\n",
    "data[\"habitat\"]=data[\"habitat\"].replace(habitat)\n",
    "bruises={\"t\":\"bruises\",\"f\":\"no\"}\n",
    "data[\"bruises\"]=data[\"bruises\"].replace(bruises)\n"
   ]
  },
  {
   "cell_type": "code",
   "execution_count": 95,
   "id": "48880696",
   "metadata": {},
   "outputs": [
    {
     "data": {
      "text/html": [
       "<div>\n",
       "<style scoped>\n",
       "    .dataframe tbody tr th:only-of-type {\n",
       "        vertical-align: middle;\n",
       "    }\n",
       "\n",
       "    .dataframe tbody tr th {\n",
       "        vertical-align: top;\n",
       "    }\n",
       "\n",
       "    .dataframe thead th {\n",
       "        text-align: right;\n",
       "    }\n",
       "</style>\n",
       "<table border=\"1\" class=\"dataframe\">\n",
       "  <thead>\n",
       "    <tr style=\"text-align: right;\">\n",
       "      <th></th>\n",
       "      <th>class</th>\n",
       "      <th>cap-shape</th>\n",
       "      <th>cap-surface</th>\n",
       "      <th>cap-color</th>\n",
       "      <th>bruises</th>\n",
       "      <th>odor</th>\n",
       "      <th>gill-attachment</th>\n",
       "      <th>gill-spacing</th>\n",
       "      <th>gill-size</th>\n",
       "      <th>gill-color</th>\n",
       "      <th>...</th>\n",
       "      <th>stalk-surface-below-ring</th>\n",
       "      <th>stalk-color-above-ring</th>\n",
       "      <th>stalk-color-below-ring</th>\n",
       "      <th>veil-type</th>\n",
       "      <th>veil-color</th>\n",
       "      <th>ring-number</th>\n",
       "      <th>ring-type</th>\n",
       "      <th>spore-print-color</th>\n",
       "      <th>population</th>\n",
       "      <th>habitat</th>\n",
       "    </tr>\n",
       "  </thead>\n",
       "  <tbody>\n",
       "    <tr>\n",
       "      <th>0</th>\n",
       "      <td>p</td>\n",
       "      <td>convex</td>\n",
       "      <td>smooth</td>\n",
       "      <td>brown</td>\n",
       "      <td>bruises</td>\n",
       "      <td>pungent</td>\n",
       "      <td>free</td>\n",
       "      <td>close</td>\n",
       "      <td>narrow</td>\n",
       "      <td>black</td>\n",
       "      <td>...</td>\n",
       "      <td>smooth</td>\n",
       "      <td>white</td>\n",
       "      <td>white</td>\n",
       "      <td>partial</td>\n",
       "      <td>white</td>\n",
       "      <td>one</td>\n",
       "      <td>pendant</td>\n",
       "      <td>black</td>\n",
       "      <td>scattered</td>\n",
       "      <td>urban</td>\n",
       "    </tr>\n",
       "    <tr>\n",
       "      <th>1</th>\n",
       "      <td>e</td>\n",
       "      <td>convex</td>\n",
       "      <td>smooth</td>\n",
       "      <td>yellow</td>\n",
       "      <td>bruises</td>\n",
       "      <td>almond</td>\n",
       "      <td>free</td>\n",
       "      <td>close</td>\n",
       "      <td>broad</td>\n",
       "      <td>black</td>\n",
       "      <td>...</td>\n",
       "      <td>smooth</td>\n",
       "      <td>white</td>\n",
       "      <td>white</td>\n",
       "      <td>partial</td>\n",
       "      <td>white</td>\n",
       "      <td>one</td>\n",
       "      <td>pendant</td>\n",
       "      <td>brown</td>\n",
       "      <td>numerous</td>\n",
       "      <td>grasses</td>\n",
       "    </tr>\n",
       "    <tr>\n",
       "      <th>2</th>\n",
       "      <td>e</td>\n",
       "      <td>bell</td>\n",
       "      <td>smooth</td>\n",
       "      <td>white</td>\n",
       "      <td>bruises</td>\n",
       "      <td>anise</td>\n",
       "      <td>free</td>\n",
       "      <td>close</td>\n",
       "      <td>broad</td>\n",
       "      <td>brown</td>\n",
       "      <td>...</td>\n",
       "      <td>smooth</td>\n",
       "      <td>white</td>\n",
       "      <td>white</td>\n",
       "      <td>partial</td>\n",
       "      <td>white</td>\n",
       "      <td>one</td>\n",
       "      <td>pendant</td>\n",
       "      <td>brown</td>\n",
       "      <td>numerous</td>\n",
       "      <td>meadows</td>\n",
       "    </tr>\n",
       "    <tr>\n",
       "      <th>3</th>\n",
       "      <td>p</td>\n",
       "      <td>convex</td>\n",
       "      <td>scaly</td>\n",
       "      <td>white</td>\n",
       "      <td>bruises</td>\n",
       "      <td>pungent</td>\n",
       "      <td>free</td>\n",
       "      <td>close</td>\n",
       "      <td>narrow</td>\n",
       "      <td>brown</td>\n",
       "      <td>...</td>\n",
       "      <td>smooth</td>\n",
       "      <td>white</td>\n",
       "      <td>white</td>\n",
       "      <td>partial</td>\n",
       "      <td>white</td>\n",
       "      <td>one</td>\n",
       "      <td>pendant</td>\n",
       "      <td>black</td>\n",
       "      <td>scattered</td>\n",
       "      <td>urban</td>\n",
       "    </tr>\n",
       "    <tr>\n",
       "      <th>4</th>\n",
       "      <td>e</td>\n",
       "      <td>convex</td>\n",
       "      <td>smooth</td>\n",
       "      <td>gray</td>\n",
       "      <td>no</td>\n",
       "      <td>none</td>\n",
       "      <td>free</td>\n",
       "      <td>crowded</td>\n",
       "      <td>broad</td>\n",
       "      <td>black</td>\n",
       "      <td>...</td>\n",
       "      <td>smooth</td>\n",
       "      <td>white</td>\n",
       "      <td>white</td>\n",
       "      <td>partial</td>\n",
       "      <td>white</td>\n",
       "      <td>one</td>\n",
       "      <td>evanescent</td>\n",
       "      <td>brown</td>\n",
       "      <td>abundant</td>\n",
       "      <td>grasses</td>\n",
       "    </tr>\n",
       "  </tbody>\n",
       "</table>\n",
       "<p>5 rows × 23 columns</p>\n",
       "</div>"
      ],
      "text/plain": [
       "  class cap-shape cap-surface cap-color  bruises     odor gill-attachment  \\\n",
       "0     p    convex      smooth     brown  bruises  pungent            free   \n",
       "1     e    convex      smooth    yellow  bruises   almond            free   \n",
       "2     e      bell      smooth     white  bruises    anise            free   \n",
       "3     p    convex       scaly     white  bruises  pungent            free   \n",
       "4     e    convex      smooth      gray       no     none            free   \n",
       "\n",
       "  gill-spacing gill-size gill-color  ... stalk-surface-below-ring  \\\n",
       "0        close    narrow      black  ...                   smooth   \n",
       "1        close     broad      black  ...                   smooth   \n",
       "2        close     broad      brown  ...                   smooth   \n",
       "3        close    narrow      brown  ...                   smooth   \n",
       "4      crowded     broad      black  ...                   smooth   \n",
       "\n",
       "  stalk-color-above-ring stalk-color-below-ring veil-type veil-color  \\\n",
       "0                  white                  white   partial      white   \n",
       "1                  white                  white   partial      white   \n",
       "2                  white                  white   partial      white   \n",
       "3                  white                  white   partial      white   \n",
       "4                  white                  white   partial      white   \n",
       "\n",
       "  ring-number   ring-type spore-print-color population  habitat  \n",
       "0         one     pendant             black  scattered    urban  \n",
       "1         one     pendant             brown   numerous  grasses  \n",
       "2         one     pendant             brown   numerous  meadows  \n",
       "3         one     pendant             black  scattered    urban  \n",
       "4         one  evanescent             brown   abundant  grasses  \n",
       "\n",
       "[5 rows x 23 columns]"
      ]
     },
     "execution_count": 95,
     "metadata": {},
     "output_type": "execute_result"
    }
   ],
   "source": [
    "data.head()"
   ]
  },
  {
   "cell_type": "code",
   "execution_count": 96,
   "id": "d6b30034",
   "metadata": {},
   "outputs": [],
   "source": [
    "edible=data[data[\"class\"]==\"e\"]\n",
    "poisonous=data[data[\"class\"]==\"p\"]\n"
   ]
  },
  {
   "cell_type": "code",
   "execution_count": 97,
   "id": "3600176d",
   "metadata": {},
   "outputs": [],
   "source": [
    "stalk_shape_edible=pd.DataFrame(edible[\"stalk-shape\"].value_counts())\n",
    "stalk_shape_poisonous=pd.DataFrame(poisonous[\"stalk-shape\"].value_counts())\n",
    "stalk_root_edible=pd.DataFrame(edible[\"stalk-root\"].value_counts())\n",
    "stalk_root_poisonous=pd.DataFrame(poisonous[\"stalk-root\"].value_counts())\n",
    "stalk_surface_above_ring_edible=pd.DataFrame(edible[\"stalk-surface-above-ring\"].value_counts())\n",
    "stalk_surface_above_ring_poisonous=pd.DataFrame(poisonous[\"stalk-surface-above-ring\"].value_counts())\n",
    "stalk_surface_below_ring_edible=pd.DataFrame(edible[\"stalk-surface-below-ring\"].value_counts())\n",
    "stalk_surface_below_ring_poisonous=pd.DataFrame(poisonous[\"stalk-surface-below-ring\"].value_counts())\n",
    "stalk_color_above_ring_edible=pd.DataFrame(edible[\"stalk-color-above-ring\"].value_counts())\n",
    "stalk_color_above_ring_poisonous=pd.DataFrame(poisonous[\"stalk-color-above-ring\"].value_counts())\n",
    "stalk_color_below_ring_edible=pd.DataFrame(edible[\"stalk-color-below-ring\"].value_counts())\n",
    "stalk_color_below_ring_poisonous=pd.DataFrame(poisonous[\"stalk-color-below-ring\"].value_counts())\n",
    "\n"
   ]
  },
  {
   "cell_type": "code",
   "execution_count": 98,
   "id": "c95f7576",
   "metadata": {},
   "outputs": [
    {
     "name": "stderr",
     "output_type": "stream",
     "text": [
      "/home/kanhaiya/anaconda3/lib/python3.9/site-packages/plotly/tools.py:460: DeprecationWarning:\n",
      "\n",
      "plotly.tools.make_subplots is deprecated, please use plotly.subplots.make_subplots instead\n",
      "\n"
     ]
    },
    {
     "data": {
      "application/vnd.plotly.v1+json": {
       "config": {
        "linkText": "Export to plot.ly",
        "plotlyServerURL": "https://plot.ly",
        "showLink": false
       },
       "data": [
        {
         "marker": {
          "color": "darksalmon",
          "line": {
           "color": "rgba(58, 71, 80, 1.0)",
           "width": 3
          },
          "opacity": 0.8
         },
         "name": "Edible- Stalk Color Above Ring",
         "orientation": "h",
         "type": "bar",
         "x": [
          2752,
          576,
          576,
          192,
          96,
          16
         ],
         "xaxis": "x",
         "y": [
          "white",
          "gray",
          "pink",
          "orange",
          "red",
          "brown"
         ],
         "yaxis": "y"
        },
        {
         "marker": {
          "color": "plum",
          "line": {
           "color": "rgba(58, 71, 80, 1.0)",
           "width": 3
          },
          "opacity": 0.8
         },
         "name": "Poisonous-Stalk Color Above Ring",
         "orientation": "h",
         "type": "bar",
         "x": [
          1712,
          1296,
          432,
          432,
          36,
          8
         ],
         "xaxis": "x",
         "y": [
          "white",
          "pink",
          "brown",
          "buff",
          "cinnamon",
          "yellow"
         ],
         "yaxis": "y"
        },
        {
         "marker": {
          "color": "palegreen",
          "line": {
           "color": "rgba(58, 71, 80, 1.0)",
           "width": 3
          },
          "opacity": 0.8
         },
         "name": "Edible-Stalk Color Below Ring",
         "orientation": "h",
         "type": "bar",
         "x": [
          2704,
          576,
          576,
          192,
          96,
          64
         ],
         "xaxis": "x2",
         "y": [
          "white",
          "pink",
          "gray",
          "orange",
          "red",
          "brown"
         ],
         "yaxis": "y2"
        },
        {
         "marker": {
          "color": "sienna",
          "line": {
           "color": "rgba(58, 71, 80, 1.0)",
           "width": 3
          },
          "opacity": 0.8
         },
         "name": "Poisonous- Stalk Color Below Ring",
         "orientation": "h",
         "type": "bar",
         "x": [
          1680,
          1296,
          448,
          432,
          36,
          24
         ],
         "xaxis": "x2",
         "y": [
          "white",
          "pink",
          "brown",
          "buff",
          "cinnamon",
          "yellow"
         ],
         "yaxis": "y2"
        }
       ],
       "layout": {
        "annotations": [
         {
          "font": {
           "size": 16
          },
          "showarrow": false,
          "text": "Stalk Color Counts Above Ring",
          "x": 0.225,
          "xanchor": "center",
          "xref": "paper",
          "y": 1,
          "yanchor": "bottom",
          "yref": "paper"
         },
         {
          "font": {
           "size": 16
          },
          "showarrow": false,
          "text": "Stalk Color Counts Below Rings",
          "x": 0.775,
          "xanchor": "center",
          "xref": "paper",
          "y": 1,
          "yanchor": "bottom",
          "yref": "paper"
         }
        ],
        "barmode": "stack",
        "height": 600,
        "legend": {
         "font": {
          "color": "#000",
          "size": 11
         },
         "orientation": "h",
         "x": 0.58,
         "y": -0.1
        },
        "showlegend": true,
        "template": {
         "data": {
          "bar": [
           {
            "error_x": {
             "color": "#2a3f5f"
            },
            "error_y": {
             "color": "#2a3f5f"
            },
            "marker": {
             "line": {
              "color": "#E5ECF6",
              "width": 0.5
             },
             "pattern": {
              "fillmode": "overlay",
              "size": 10,
              "solidity": 0.2
             }
            },
            "type": "bar"
           }
          ],
          "barpolar": [
           {
            "marker": {
             "line": {
              "color": "#E5ECF6",
              "width": 0.5
             },
             "pattern": {
              "fillmode": "overlay",
              "size": 10,
              "solidity": 0.2
             }
            },
            "type": "barpolar"
           }
          ],
          "carpet": [
           {
            "aaxis": {
             "endlinecolor": "#2a3f5f",
             "gridcolor": "white",
             "linecolor": "white",
             "minorgridcolor": "white",
             "startlinecolor": "#2a3f5f"
            },
            "baxis": {
             "endlinecolor": "#2a3f5f",
             "gridcolor": "white",
             "linecolor": "white",
             "minorgridcolor": "white",
             "startlinecolor": "#2a3f5f"
            },
            "type": "carpet"
           }
          ],
          "choropleth": [
           {
            "colorbar": {
             "outlinewidth": 0,
             "ticks": ""
            },
            "type": "choropleth"
           }
          ],
          "contour": [
           {
            "colorbar": {
             "outlinewidth": 0,
             "ticks": ""
            },
            "colorscale": [
             [
              0,
              "#0d0887"
             ],
             [
              0.1111111111111111,
              "#46039f"
             ],
             [
              0.2222222222222222,
              "#7201a8"
             ],
             [
              0.3333333333333333,
              "#9c179e"
             ],
             [
              0.4444444444444444,
              "#bd3786"
             ],
             [
              0.5555555555555556,
              "#d8576b"
             ],
             [
              0.6666666666666666,
              "#ed7953"
             ],
             [
              0.7777777777777778,
              "#fb9f3a"
             ],
             [
              0.8888888888888888,
              "#fdca26"
             ],
             [
              1,
              "#f0f921"
             ]
            ],
            "type": "contour"
           }
          ],
          "contourcarpet": [
           {
            "colorbar": {
             "outlinewidth": 0,
             "ticks": ""
            },
            "type": "contourcarpet"
           }
          ],
          "heatmap": [
           {
            "colorbar": {
             "outlinewidth": 0,
             "ticks": ""
            },
            "colorscale": [
             [
              0,
              "#0d0887"
             ],
             [
              0.1111111111111111,
              "#46039f"
             ],
             [
              0.2222222222222222,
              "#7201a8"
             ],
             [
              0.3333333333333333,
              "#9c179e"
             ],
             [
              0.4444444444444444,
              "#bd3786"
             ],
             [
              0.5555555555555556,
              "#d8576b"
             ],
             [
              0.6666666666666666,
              "#ed7953"
             ],
             [
              0.7777777777777778,
              "#fb9f3a"
             ],
             [
              0.8888888888888888,
              "#fdca26"
             ],
             [
              1,
              "#f0f921"
             ]
            ],
            "type": "heatmap"
           }
          ],
          "heatmapgl": [
           {
            "colorbar": {
             "outlinewidth": 0,
             "ticks": ""
            },
            "colorscale": [
             [
              0,
              "#0d0887"
             ],
             [
              0.1111111111111111,
              "#46039f"
             ],
             [
              0.2222222222222222,
              "#7201a8"
             ],
             [
              0.3333333333333333,
              "#9c179e"
             ],
             [
              0.4444444444444444,
              "#bd3786"
             ],
             [
              0.5555555555555556,
              "#d8576b"
             ],
             [
              0.6666666666666666,
              "#ed7953"
             ],
             [
              0.7777777777777778,
              "#fb9f3a"
             ],
             [
              0.8888888888888888,
              "#fdca26"
             ],
             [
              1,
              "#f0f921"
             ]
            ],
            "type": "heatmapgl"
           }
          ],
          "histogram": [
           {
            "marker": {
             "pattern": {
              "fillmode": "overlay",
              "size": 10,
              "solidity": 0.2
             }
            },
            "type": "histogram"
           }
          ],
          "histogram2d": [
           {
            "colorbar": {
             "outlinewidth": 0,
             "ticks": ""
            },
            "colorscale": [
             [
              0,
              "#0d0887"
             ],
             [
              0.1111111111111111,
              "#46039f"
             ],
             [
              0.2222222222222222,
              "#7201a8"
             ],
             [
              0.3333333333333333,
              "#9c179e"
             ],
             [
              0.4444444444444444,
              "#bd3786"
             ],
             [
              0.5555555555555556,
              "#d8576b"
             ],
             [
              0.6666666666666666,
              "#ed7953"
             ],
             [
              0.7777777777777778,
              "#fb9f3a"
             ],
             [
              0.8888888888888888,
              "#fdca26"
             ],
             [
              1,
              "#f0f921"
             ]
            ],
            "type": "histogram2d"
           }
          ],
          "histogram2dcontour": [
           {
            "colorbar": {
             "outlinewidth": 0,
             "ticks": ""
            },
            "colorscale": [
             [
              0,
              "#0d0887"
             ],
             [
              0.1111111111111111,
              "#46039f"
             ],
             [
              0.2222222222222222,
              "#7201a8"
             ],
             [
              0.3333333333333333,
              "#9c179e"
             ],
             [
              0.4444444444444444,
              "#bd3786"
             ],
             [
              0.5555555555555556,
              "#d8576b"
             ],
             [
              0.6666666666666666,
              "#ed7953"
             ],
             [
              0.7777777777777778,
              "#fb9f3a"
             ],
             [
              0.8888888888888888,
              "#fdca26"
             ],
             [
              1,
              "#f0f921"
             ]
            ],
            "type": "histogram2dcontour"
           }
          ],
          "mesh3d": [
           {
            "colorbar": {
             "outlinewidth": 0,
             "ticks": ""
            },
            "type": "mesh3d"
           }
          ],
          "parcoords": [
           {
            "line": {
             "colorbar": {
              "outlinewidth": 0,
              "ticks": ""
             }
            },
            "type": "parcoords"
           }
          ],
          "pie": [
           {
            "automargin": true,
            "type": "pie"
           }
          ],
          "scatter": [
           {
            "fillpattern": {
             "fillmode": "overlay",
             "size": 10,
             "solidity": 0.2
            },
            "type": "scatter"
           }
          ],
          "scatter3d": [
           {
            "line": {
             "colorbar": {
              "outlinewidth": 0,
              "ticks": ""
             }
            },
            "marker": {
             "colorbar": {
              "outlinewidth": 0,
              "ticks": ""
             }
            },
            "type": "scatter3d"
           }
          ],
          "scattercarpet": [
           {
            "marker": {
             "colorbar": {
              "outlinewidth": 0,
              "ticks": ""
             }
            },
            "type": "scattercarpet"
           }
          ],
          "scattergeo": [
           {
            "marker": {
             "colorbar": {
              "outlinewidth": 0,
              "ticks": ""
             }
            },
            "type": "scattergeo"
           }
          ],
          "scattergl": [
           {
            "marker": {
             "colorbar": {
              "outlinewidth": 0,
              "ticks": ""
             }
            },
            "type": "scattergl"
           }
          ],
          "scattermapbox": [
           {
            "marker": {
             "colorbar": {
              "outlinewidth": 0,
              "ticks": ""
             }
            },
            "type": "scattermapbox"
           }
          ],
          "scatterpolar": [
           {
            "marker": {
             "colorbar": {
              "outlinewidth": 0,
              "ticks": ""
             }
            },
            "type": "scatterpolar"
           }
          ],
          "scatterpolargl": [
           {
            "marker": {
             "colorbar": {
              "outlinewidth": 0,
              "ticks": ""
             }
            },
            "type": "scatterpolargl"
           }
          ],
          "scatterternary": [
           {
            "marker": {
             "colorbar": {
              "outlinewidth": 0,
              "ticks": ""
             }
            },
            "type": "scatterternary"
           }
          ],
          "surface": [
           {
            "colorbar": {
             "outlinewidth": 0,
             "ticks": ""
            },
            "colorscale": [
             [
              0,
              "#0d0887"
             ],
             [
              0.1111111111111111,
              "#46039f"
             ],
             [
              0.2222222222222222,
              "#7201a8"
             ],
             [
              0.3333333333333333,
              "#9c179e"
             ],
             [
              0.4444444444444444,
              "#bd3786"
             ],
             [
              0.5555555555555556,
              "#d8576b"
             ],
             [
              0.6666666666666666,
              "#ed7953"
             ],
             [
              0.7777777777777778,
              "#fb9f3a"
             ],
             [
              0.8888888888888888,
              "#fdca26"
             ],
             [
              1,
              "#f0f921"
             ]
            ],
            "type": "surface"
           }
          ],
          "table": [
           {
            "cells": {
             "fill": {
              "color": "#EBF0F8"
             },
             "line": {
              "color": "white"
             }
            },
            "header": {
             "fill": {
              "color": "#C8D4E3"
             },
             "line": {
              "color": "white"
             }
            },
            "type": "table"
           }
          ]
         },
         "layout": {
          "annotationdefaults": {
           "arrowcolor": "#2a3f5f",
           "arrowhead": 0,
           "arrowwidth": 1
          },
          "autotypenumbers": "strict",
          "coloraxis": {
           "colorbar": {
            "outlinewidth": 0,
            "ticks": ""
           }
          },
          "colorscale": {
           "diverging": [
            [
             0,
             "#8e0152"
            ],
            [
             0.1,
             "#c51b7d"
            ],
            [
             0.2,
             "#de77ae"
            ],
            [
             0.3,
             "#f1b6da"
            ],
            [
             0.4,
             "#fde0ef"
            ],
            [
             0.5,
             "#f7f7f7"
            ],
            [
             0.6,
             "#e6f5d0"
            ],
            [
             0.7,
             "#b8e186"
            ],
            [
             0.8,
             "#7fbc41"
            ],
            [
             0.9,
             "#4d9221"
            ],
            [
             1,
             "#276419"
            ]
           ],
           "sequential": [
            [
             0,
             "#0d0887"
            ],
            [
             0.1111111111111111,
             "#46039f"
            ],
            [
             0.2222222222222222,
             "#7201a8"
            ],
            [
             0.3333333333333333,
             "#9c179e"
            ],
            [
             0.4444444444444444,
             "#bd3786"
            ],
            [
             0.5555555555555556,
             "#d8576b"
            ],
            [
             0.6666666666666666,
             "#ed7953"
            ],
            [
             0.7777777777777778,
             "#fb9f3a"
            ],
            [
             0.8888888888888888,
             "#fdca26"
            ],
            [
             1,
             "#f0f921"
            ]
           ],
           "sequentialminus": [
            [
             0,
             "#0d0887"
            ],
            [
             0.1111111111111111,
             "#46039f"
            ],
            [
             0.2222222222222222,
             "#7201a8"
            ],
            [
             0.3333333333333333,
             "#9c179e"
            ],
            [
             0.4444444444444444,
             "#bd3786"
            ],
            [
             0.5555555555555556,
             "#d8576b"
            ],
            [
             0.6666666666666666,
             "#ed7953"
            ],
            [
             0.7777777777777778,
             "#fb9f3a"
            ],
            [
             0.8888888888888888,
             "#fdca26"
            ],
            [
             1,
             "#f0f921"
            ]
           ]
          },
          "colorway": [
           "#636efa",
           "#EF553B",
           "#00cc96",
           "#ab63fa",
           "#FFA15A",
           "#19d3f3",
           "#FF6692",
           "#B6E880",
           "#FF97FF",
           "#FECB52"
          ],
          "font": {
           "color": "#2a3f5f"
          },
          "geo": {
           "bgcolor": "white",
           "lakecolor": "white",
           "landcolor": "#E5ECF6",
           "showlakes": true,
           "showland": true,
           "subunitcolor": "white"
          },
          "hoverlabel": {
           "align": "left"
          },
          "hovermode": "closest",
          "mapbox": {
           "style": "light"
          },
          "paper_bgcolor": "white",
          "plot_bgcolor": "#E5ECF6",
          "polar": {
           "angularaxis": {
            "gridcolor": "white",
            "linecolor": "white",
            "ticks": ""
           },
           "bgcolor": "#E5ECF6",
           "radialaxis": {
            "gridcolor": "white",
            "linecolor": "white",
            "ticks": ""
           }
          },
          "scene": {
           "xaxis": {
            "backgroundcolor": "#E5ECF6",
            "gridcolor": "white",
            "gridwidth": 2,
            "linecolor": "white",
            "showbackground": true,
            "ticks": "",
            "zerolinecolor": "white"
           },
           "yaxis": {
            "backgroundcolor": "#E5ECF6",
            "gridcolor": "white",
            "gridwidth": 2,
            "linecolor": "white",
            "showbackground": true,
            "ticks": "",
            "zerolinecolor": "white"
           },
           "zaxis": {
            "backgroundcolor": "#E5ECF6",
            "gridcolor": "white",
            "gridwidth": 2,
            "linecolor": "white",
            "showbackground": true,
            "ticks": "",
            "zerolinecolor": "white"
           }
          },
          "shapedefaults": {
           "line": {
            "color": "#2a3f5f"
           }
          },
          "ternary": {
           "aaxis": {
            "gridcolor": "white",
            "linecolor": "white",
            "ticks": ""
           },
           "baxis": {
            "gridcolor": "white",
            "linecolor": "white",
            "ticks": ""
           },
           "bgcolor": "#E5ECF6",
           "caxis": {
            "gridcolor": "white",
            "linecolor": "white",
            "ticks": ""
           }
          },
          "title": {
           "x": 0.05
          },
          "xaxis": {
           "automargin": true,
           "gridcolor": "white",
           "linecolor": "white",
           "ticks": "",
           "title": {
            "standoff": 15
           },
           "zerolinecolor": "white",
           "zerolinewidth": 2
          },
          "yaxis": {
           "automargin": true,
           "gridcolor": "white",
           "linecolor": "white",
           "ticks": "",
           "title": {
            "standoff": 15
           },
           "zerolinecolor": "white",
           "zerolinewidth": 2
          }
         }
        },
        "title": {
         "text": "Stalk Colors Above and Below Ring"
        },
        "width": 800,
        "xaxis": {
         "anchor": "y",
         "domain": [
          0,
          0.45
         ]
        },
        "xaxis2": {
         "anchor": "y2",
         "domain": [
          0.55,
          1
         ]
        },
        "yaxis": {
         "anchor": "x",
         "domain": [
          0,
          1
         ]
        },
        "yaxis2": {
         "anchor": "x2",
         "domain": [
          0,
          1
         ]
        }
       }
      },
      "text/html": [
       "<div>                            <div id=\"eeb37451-85ca-464b-817c-d763b6c250a6\" class=\"plotly-graph-div\" style=\"height:600px; width:800px;\"></div>            <script type=\"text/javascript\">                require([\"plotly\"], function(Plotly) {                    window.PLOTLYENV=window.PLOTLYENV || {};                                    if (document.getElementById(\"eeb37451-85ca-464b-817c-d763b6c250a6\")) {                    Plotly.newPlot(                        \"eeb37451-85ca-464b-817c-d763b6c250a6\",                        [{\"marker\":{\"color\":\"darksalmon\",\"line\":{\"color\":\"rgba(58, 71, 80, 1.0)\",\"width\":3},\"opacity\":0.8},\"name\":\"Edible- Stalk Color Above Ring\",\"orientation\":\"h\",\"x\":[2752,576,576,192,96,16],\"xaxis\":\"x\",\"y\":[\"white\",\"gray\",\"pink\",\"orange\",\"red\",\"brown\"],\"yaxis\":\"y\",\"type\":\"bar\"},{\"marker\":{\"color\":\"plum\",\"line\":{\"color\":\"rgba(58, 71, 80, 1.0)\",\"width\":3},\"opacity\":0.8},\"name\":\"Poisonous-Stalk Color Above Ring\",\"orientation\":\"h\",\"x\":[1712,1296,432,432,36,8],\"xaxis\":\"x\",\"y\":[\"white\",\"pink\",\"brown\",\"buff\",\"cinnamon\",\"yellow\"],\"yaxis\":\"y\",\"type\":\"bar\"},{\"marker\":{\"color\":\"palegreen\",\"line\":{\"color\":\"rgba(58, 71, 80, 1.0)\",\"width\":3},\"opacity\":0.8},\"name\":\"Edible-Stalk Color Below Ring\",\"orientation\":\"h\",\"x\":[2704,576,576,192,96,64],\"xaxis\":\"x2\",\"y\":[\"white\",\"pink\",\"gray\",\"orange\",\"red\",\"brown\"],\"yaxis\":\"y2\",\"type\":\"bar\"},{\"marker\":{\"color\":\"sienna\",\"line\":{\"color\":\"rgba(58, 71, 80, 1.0)\",\"width\":3},\"opacity\":0.8},\"name\":\"Poisonous- Stalk Color Below Ring\",\"orientation\":\"h\",\"x\":[1680,1296,448,432,36,24],\"xaxis\":\"x2\",\"y\":[\"white\",\"pink\",\"brown\",\"buff\",\"cinnamon\",\"yellow\"],\"yaxis\":\"y2\",\"type\":\"bar\"}],                        {\"annotations\":[{\"font\":{\"size\":16},\"showarrow\":false,\"text\":\"Stalk Color Counts Above Ring\",\"x\":0.225,\"xanchor\":\"center\",\"xref\":\"paper\",\"y\":1.0,\"yanchor\":\"bottom\",\"yref\":\"paper\"},{\"font\":{\"size\":16},\"showarrow\":false,\"text\":\"Stalk Color Counts Below Rings\",\"x\":0.775,\"xanchor\":\"center\",\"xref\":\"paper\",\"y\":1.0,\"yanchor\":\"bottom\",\"yref\":\"paper\"}],\"barmode\":\"stack\",\"height\":600,\"legend\":{\"font\":{\"color\":\"#000\",\"size\":11},\"orientation\":\"h\",\"x\":0.58,\"y\":-0.1},\"showlegend\":true,\"template\":{\"data\":{\"barpolar\":[{\"marker\":{\"line\":{\"color\":\"#E5ECF6\",\"width\":0.5},\"pattern\":{\"fillmode\":\"overlay\",\"size\":10,\"solidity\":0.2}},\"type\":\"barpolar\"}],\"bar\":[{\"error_x\":{\"color\":\"#2a3f5f\"},\"error_y\":{\"color\":\"#2a3f5f\"},\"marker\":{\"line\":{\"color\":\"#E5ECF6\",\"width\":0.5},\"pattern\":{\"fillmode\":\"overlay\",\"size\":10,\"solidity\":0.2}},\"type\":\"bar\"}],\"carpet\":[{\"aaxis\":{\"endlinecolor\":\"#2a3f5f\",\"gridcolor\":\"white\",\"linecolor\":\"white\",\"minorgridcolor\":\"white\",\"startlinecolor\":\"#2a3f5f\"},\"baxis\":{\"endlinecolor\":\"#2a3f5f\",\"gridcolor\":\"white\",\"linecolor\":\"white\",\"minorgridcolor\":\"white\",\"startlinecolor\":\"#2a3f5f\"},\"type\":\"carpet\"}],\"choropleth\":[{\"colorbar\":{\"outlinewidth\":0,\"ticks\":\"\"},\"type\":\"choropleth\"}],\"contourcarpet\":[{\"colorbar\":{\"outlinewidth\":0,\"ticks\":\"\"},\"type\":\"contourcarpet\"}],\"contour\":[{\"colorbar\":{\"outlinewidth\":0,\"ticks\":\"\"},\"colorscale\":[[0.0,\"#0d0887\"],[0.1111111111111111,\"#46039f\"],[0.2222222222222222,\"#7201a8\"],[0.3333333333333333,\"#9c179e\"],[0.4444444444444444,\"#bd3786\"],[0.5555555555555556,\"#d8576b\"],[0.6666666666666666,\"#ed7953\"],[0.7777777777777778,\"#fb9f3a\"],[0.8888888888888888,\"#fdca26\"],[1.0,\"#f0f921\"]],\"type\":\"contour\"}],\"heatmapgl\":[{\"colorbar\":{\"outlinewidth\":0,\"ticks\":\"\"},\"colorscale\":[[0.0,\"#0d0887\"],[0.1111111111111111,\"#46039f\"],[0.2222222222222222,\"#7201a8\"],[0.3333333333333333,\"#9c179e\"],[0.4444444444444444,\"#bd3786\"],[0.5555555555555556,\"#d8576b\"],[0.6666666666666666,\"#ed7953\"],[0.7777777777777778,\"#fb9f3a\"],[0.8888888888888888,\"#fdca26\"],[1.0,\"#f0f921\"]],\"type\":\"heatmapgl\"}],\"heatmap\":[{\"colorbar\":{\"outlinewidth\":0,\"ticks\":\"\"},\"colorscale\":[[0.0,\"#0d0887\"],[0.1111111111111111,\"#46039f\"],[0.2222222222222222,\"#7201a8\"],[0.3333333333333333,\"#9c179e\"],[0.4444444444444444,\"#bd3786\"],[0.5555555555555556,\"#d8576b\"],[0.6666666666666666,\"#ed7953\"],[0.7777777777777778,\"#fb9f3a\"],[0.8888888888888888,\"#fdca26\"],[1.0,\"#f0f921\"]],\"type\":\"heatmap\"}],\"histogram2dcontour\":[{\"colorbar\":{\"outlinewidth\":0,\"ticks\":\"\"},\"colorscale\":[[0.0,\"#0d0887\"],[0.1111111111111111,\"#46039f\"],[0.2222222222222222,\"#7201a8\"],[0.3333333333333333,\"#9c179e\"],[0.4444444444444444,\"#bd3786\"],[0.5555555555555556,\"#d8576b\"],[0.6666666666666666,\"#ed7953\"],[0.7777777777777778,\"#fb9f3a\"],[0.8888888888888888,\"#fdca26\"],[1.0,\"#f0f921\"]],\"type\":\"histogram2dcontour\"}],\"histogram2d\":[{\"colorbar\":{\"outlinewidth\":0,\"ticks\":\"\"},\"colorscale\":[[0.0,\"#0d0887\"],[0.1111111111111111,\"#46039f\"],[0.2222222222222222,\"#7201a8\"],[0.3333333333333333,\"#9c179e\"],[0.4444444444444444,\"#bd3786\"],[0.5555555555555556,\"#d8576b\"],[0.6666666666666666,\"#ed7953\"],[0.7777777777777778,\"#fb9f3a\"],[0.8888888888888888,\"#fdca26\"],[1.0,\"#f0f921\"]],\"type\":\"histogram2d\"}],\"histogram\":[{\"marker\":{\"pattern\":{\"fillmode\":\"overlay\",\"size\":10,\"solidity\":0.2}},\"type\":\"histogram\"}],\"mesh3d\":[{\"colorbar\":{\"outlinewidth\":0,\"ticks\":\"\"},\"type\":\"mesh3d\"}],\"parcoords\":[{\"line\":{\"colorbar\":{\"outlinewidth\":0,\"ticks\":\"\"}},\"type\":\"parcoords\"}],\"pie\":[{\"automargin\":true,\"type\":\"pie\"}],\"scatter3d\":[{\"line\":{\"colorbar\":{\"outlinewidth\":0,\"ticks\":\"\"}},\"marker\":{\"colorbar\":{\"outlinewidth\":0,\"ticks\":\"\"}},\"type\":\"scatter3d\"}],\"scattercarpet\":[{\"marker\":{\"colorbar\":{\"outlinewidth\":0,\"ticks\":\"\"}},\"type\":\"scattercarpet\"}],\"scattergeo\":[{\"marker\":{\"colorbar\":{\"outlinewidth\":0,\"ticks\":\"\"}},\"type\":\"scattergeo\"}],\"scattergl\":[{\"marker\":{\"colorbar\":{\"outlinewidth\":0,\"ticks\":\"\"}},\"type\":\"scattergl\"}],\"scattermapbox\":[{\"marker\":{\"colorbar\":{\"outlinewidth\":0,\"ticks\":\"\"}},\"type\":\"scattermapbox\"}],\"scatterpolargl\":[{\"marker\":{\"colorbar\":{\"outlinewidth\":0,\"ticks\":\"\"}},\"type\":\"scatterpolargl\"}],\"scatterpolar\":[{\"marker\":{\"colorbar\":{\"outlinewidth\":0,\"ticks\":\"\"}},\"type\":\"scatterpolar\"}],\"scatter\":[{\"fillpattern\":{\"fillmode\":\"overlay\",\"size\":10,\"solidity\":0.2},\"type\":\"scatter\"}],\"scatterternary\":[{\"marker\":{\"colorbar\":{\"outlinewidth\":0,\"ticks\":\"\"}},\"type\":\"scatterternary\"}],\"surface\":[{\"colorbar\":{\"outlinewidth\":0,\"ticks\":\"\"},\"colorscale\":[[0.0,\"#0d0887\"],[0.1111111111111111,\"#46039f\"],[0.2222222222222222,\"#7201a8\"],[0.3333333333333333,\"#9c179e\"],[0.4444444444444444,\"#bd3786\"],[0.5555555555555556,\"#d8576b\"],[0.6666666666666666,\"#ed7953\"],[0.7777777777777778,\"#fb9f3a\"],[0.8888888888888888,\"#fdca26\"],[1.0,\"#f0f921\"]],\"type\":\"surface\"}],\"table\":[{\"cells\":{\"fill\":{\"color\":\"#EBF0F8\"},\"line\":{\"color\":\"white\"}},\"header\":{\"fill\":{\"color\":\"#C8D4E3\"},\"line\":{\"color\":\"white\"}},\"type\":\"table\"}]},\"layout\":{\"annotationdefaults\":{\"arrowcolor\":\"#2a3f5f\",\"arrowhead\":0,\"arrowwidth\":1},\"autotypenumbers\":\"strict\",\"coloraxis\":{\"colorbar\":{\"outlinewidth\":0,\"ticks\":\"\"}},\"colorscale\":{\"diverging\":[[0,\"#8e0152\"],[0.1,\"#c51b7d\"],[0.2,\"#de77ae\"],[0.3,\"#f1b6da\"],[0.4,\"#fde0ef\"],[0.5,\"#f7f7f7\"],[0.6,\"#e6f5d0\"],[0.7,\"#b8e186\"],[0.8,\"#7fbc41\"],[0.9,\"#4d9221\"],[1,\"#276419\"]],\"sequential\":[[0.0,\"#0d0887\"],[0.1111111111111111,\"#46039f\"],[0.2222222222222222,\"#7201a8\"],[0.3333333333333333,\"#9c179e\"],[0.4444444444444444,\"#bd3786\"],[0.5555555555555556,\"#d8576b\"],[0.6666666666666666,\"#ed7953\"],[0.7777777777777778,\"#fb9f3a\"],[0.8888888888888888,\"#fdca26\"],[1.0,\"#f0f921\"]],\"sequentialminus\":[[0.0,\"#0d0887\"],[0.1111111111111111,\"#46039f\"],[0.2222222222222222,\"#7201a8\"],[0.3333333333333333,\"#9c179e\"],[0.4444444444444444,\"#bd3786\"],[0.5555555555555556,\"#d8576b\"],[0.6666666666666666,\"#ed7953\"],[0.7777777777777778,\"#fb9f3a\"],[0.8888888888888888,\"#fdca26\"],[1.0,\"#f0f921\"]]},\"colorway\":[\"#636efa\",\"#EF553B\",\"#00cc96\",\"#ab63fa\",\"#FFA15A\",\"#19d3f3\",\"#FF6692\",\"#B6E880\",\"#FF97FF\",\"#FECB52\"],\"font\":{\"color\":\"#2a3f5f\"},\"geo\":{\"bgcolor\":\"white\",\"lakecolor\":\"white\",\"landcolor\":\"#E5ECF6\",\"showlakes\":true,\"showland\":true,\"subunitcolor\":\"white\"},\"hoverlabel\":{\"align\":\"left\"},\"hovermode\":\"closest\",\"mapbox\":{\"style\":\"light\"},\"paper_bgcolor\":\"white\",\"plot_bgcolor\":\"#E5ECF6\",\"polar\":{\"angularaxis\":{\"gridcolor\":\"white\",\"linecolor\":\"white\",\"ticks\":\"\"},\"bgcolor\":\"#E5ECF6\",\"radialaxis\":{\"gridcolor\":\"white\",\"linecolor\":\"white\",\"ticks\":\"\"}},\"scene\":{\"xaxis\":{\"backgroundcolor\":\"#E5ECF6\",\"gridcolor\":\"white\",\"gridwidth\":2,\"linecolor\":\"white\",\"showbackground\":true,\"ticks\":\"\",\"zerolinecolor\":\"white\"},\"yaxis\":{\"backgroundcolor\":\"#E5ECF6\",\"gridcolor\":\"white\",\"gridwidth\":2,\"linecolor\":\"white\",\"showbackground\":true,\"ticks\":\"\",\"zerolinecolor\":\"white\"},\"zaxis\":{\"backgroundcolor\":\"#E5ECF6\",\"gridcolor\":\"white\",\"gridwidth\":2,\"linecolor\":\"white\",\"showbackground\":true,\"ticks\":\"\",\"zerolinecolor\":\"white\"}},\"shapedefaults\":{\"line\":{\"color\":\"#2a3f5f\"}},\"ternary\":{\"aaxis\":{\"gridcolor\":\"white\",\"linecolor\":\"white\",\"ticks\":\"\"},\"baxis\":{\"gridcolor\":\"white\",\"linecolor\":\"white\",\"ticks\":\"\"},\"bgcolor\":\"#E5ECF6\",\"caxis\":{\"gridcolor\":\"white\",\"linecolor\":\"white\",\"ticks\":\"\"}},\"title\":{\"x\":0.05},\"xaxis\":{\"automargin\":true,\"gridcolor\":\"white\",\"linecolor\":\"white\",\"ticks\":\"\",\"title\":{\"standoff\":15},\"zerolinecolor\":\"white\",\"zerolinewidth\":2},\"yaxis\":{\"automargin\":true,\"gridcolor\":\"white\",\"linecolor\":\"white\",\"ticks\":\"\",\"title\":{\"standoff\":15},\"zerolinecolor\":\"white\",\"zerolinewidth\":2}}},\"title\":{\"text\":\"Stalk Colors Above and Below Ring\"},\"width\":800,\"xaxis\":{\"anchor\":\"y\",\"domain\":[0.0,0.45]},\"yaxis\":{\"anchor\":\"x\",\"domain\":[0.0,1.0]},\"xaxis2\":{\"anchor\":\"y2\",\"domain\":[0.55,1.0]},\"yaxis2\":{\"anchor\":\"x2\",\"domain\":[0.0,1.0]}},                        {\"responsive\": true}                    ).then(function(){\n",
       "                            \n",
       "var gd = document.getElementById('eeb37451-85ca-464b-817c-d763b6c250a6');\n",
       "var x = new MutationObserver(function (mutations, observer) {{\n",
       "        var display = window.getComputedStyle(gd).display;\n",
       "        if (!display || display === 'none') {{\n",
       "            console.log([gd, 'removed!']);\n",
       "            Plotly.purge(gd);\n",
       "            observer.disconnect();\n",
       "        }}\n",
       "}});\n",
       "\n",
       "// Listen for the removal of the full notebook cells\n",
       "var notebookContainer = gd.closest('#notebook-container');\n",
       "if (notebookContainer) {{\n",
       "    x.observe(notebookContainer, {childList: true});\n",
       "}}\n",
       "\n",
       "// Listen for the clearing of the current output cell\n",
       "var outputEl = gd.closest('.output');\n",
       "if (outputEl) {{\n",
       "    x.observe(outputEl, {childList: true});\n",
       "}}\n",
       "\n",
       "                        })                };                });            </script>        </div>"
      ]
     },
     "metadata": {},
     "output_type": "display_data"
    }
   ],
   "source": [
    "value1=stalk_color_above_ring_edible[\"stalk-color-above-ring\"].values\n",
    "label1=stalk_color_above_ring_edible.index\n",
    "value2=stalk_color_above_ring_poisonous[\"stalk-color-above-ring\"].values\n",
    "label2=stalk_color_above_ring_poisonous.index\n",
    "value3=stalk_color_below_ring_edible[\"stalk-color-below-ring\"].values\n",
    "label3=stalk_color_below_ring_edible.index\n",
    "value4=stalk_color_below_ring_poisonous[\"stalk-color-below-ring\"].values\n",
    "label4=stalk_color_below_ring_poisonous.index\n",
    "\n",
    "trace1=go.Bar(\n",
    "      x = value1,\n",
    "      y =label1 ,\n",
    "      name='Edible- Stalk Color Above Ring',\n",
    "    orientation = 'h',\n",
    "    marker = dict(\n",
    "        color = \"darksalmon\",\n",
    "        line = dict(\n",
    "            color = 'rgba(58, 71, 80, 1.0)',\n",
    "            width = 3),\n",
    "        opacity=0.8,\n",
    "    ))\n",
    "    \n",
    "trace2=go.Bar(\n",
    "     x = value2 ,\n",
    "     y = label2,\n",
    "      name='Poisonous-Stalk Color Above Ring',\n",
    "    orientation = 'h',\n",
    "    marker = dict(\n",
    "        color = \"plum\",\n",
    "        line = dict(\n",
    "            color = 'rgba(58, 71, 80, 1.0)',\n",
    "            width = 3), opacity=0.8))\n",
    "    \n",
    "trace3=go.Bar(\n",
    "     x = value3,\n",
    "     y = label3,\n",
    "            name='Edible-Stalk Color Below Ring',\n",
    "    orientation = 'h',\n",
    "    marker = dict(\n",
    "        color = \"palegreen\",\n",
    "        line = dict(\n",
    "            color = 'rgba(58, 71, 80, 1.0)',\n",
    "            width = 3), opacity=0.8))\n",
    "   \n",
    "trace4=go.Bar(\n",
    "      x =value4 ,\n",
    "      y =label4 ,\n",
    "             name='Poisonous- Stalk Color Below Ring',\n",
    "    orientation = 'h',\n",
    "    marker = dict(\n",
    "        color = \"sienna\",\n",
    "        line = dict(\n",
    "            color = 'rgba(58, 71, 80, 1.0)',\n",
    "            width = 3), opacity=0.8))\n",
    "   \n",
    "\n",
    "fig= tools.make_subplots(rows=1, cols=2,subplot_titles=('Stalk Color Counts Above Ring','Stalk Color Counts Below Rings'))\n",
    "\n",
    "fig.append_trace(trace1, 1, 1)\n",
    "fig.append_trace(trace2, 1, 1)\n",
    "fig.append_trace(trace3, 1, 2)\n",
    "fig.append_trace(trace4, 1, 2)\n",
    "\n",
    "fig['layout'].update(showlegend=True,height=600, width=800, barmode='stack',legend=dict(x=.58, y=-0.1,orientation=\"h\",font=dict(size=11,color='#000')),\n",
    "                     title='Stalk Colors Above and Below Ring')\n",
    "iplot(fig)\n"
   ]
  },
  {
   "cell_type": "code",
   "execution_count": 99,
   "id": "3e11bac5",
   "metadata": {},
   "outputs": [
    {
     "data": {
      "image/png": "[encoded data removed]",
      "text/plain": [
       "<Figure size 402.25x360 with 1 Axes>"
      ]
     },
     "metadata": {
      "needs_background": "light"
     },
     "output_type": "display_data"
    }
   ],
   "source": [
    "sns.catplot(y=\"ring-type\", hue=\"class\", kind=\"count\",height=5,\n",
    "            palette=\"pastel\", edgecolor=\".6\",\n",
    "            data=data)\n",
    "plt.savefig(\"ring_type.pdf\", dpi=400,  bbox_inches='tight')"
   ]
  },
  {
   "cell_type": "code",
   "execution_count": 100,
   "id": "8dbd7ddb",
   "metadata": {},
   "outputs": [
    {
     "ename": "AttributeError",
     "evalue": "'dict' object has no attribute 'write_image'",
     "output_type": "error",
     "traceback": [
      "\u001b[0;31m---------------------------------------------------------------------------\u001b[0m",
      "\u001b[0;31mAttributeError\u001b[0m                            Traceback (most recent call last)",
      "Input \u001b[0;32mIn [100]\u001b[0m, in \u001b[0;36m<cell line: 65>\u001b[0;34m()\u001b[0m\n\u001b[1;32m      1\u001b[0m fig \u001b[38;5;241m=\u001b[39m {\n\u001b[1;32m      2\u001b[0m   \u001b[38;5;124m\"\u001b[39m\u001b[38;5;124mdata\u001b[39m\u001b[38;5;124m\"\u001b[39m: [\n\u001b[1;32m      3\u001b[0m     {\n\u001b[0;32m   (...)\u001b[0m\n\u001b[1;32m     50\u001b[0m     }\n\u001b[1;32m     51\u001b[0m }\n\u001b[1;32m     52\u001b[0m \u001b[38;5;66;03m#iplot(fig)\u001b[39;00m\n\u001b[1;32m     53\u001b[0m \u001b[38;5;66;03m#go.Figure.write_image(fig,\"file.jpeg\")\u001b[39;00m\n\u001b[1;32m     54\u001b[0m \u001b[38;5;66;03m#files.download(\"file.png\")\u001b[39;00m\n\u001b[0;32m   (...)\u001b[0m\n\u001b[1;32m     63\u001b[0m \u001b[38;5;66;03m#fig = go.Figure(data=data, layout=layout)\u001b[39;00m\n\u001b[1;32m     64\u001b[0m \u001b[38;5;66;03m#py.iplot(fig, filename='jupyter-Edible and Poisonous Mushrooms Spore Print Color Percentages')\u001b[39;00m\n\u001b[0;32m---> 65\u001b[0m \u001b[43mfig\u001b[49m\u001b[38;5;241;43m.\u001b[39;49m\u001b[43mwrite_image\u001b[49m(\u001b[38;5;124m\"\u001b[39m\u001b[38;5;124mfig1.png\u001b[39m\u001b[38;5;124m\"\u001b[39m)\n",
      "\u001b[0;31mAttributeError\u001b[0m: 'dict' object has no attribute 'write_image'"
     ]
    }
   ],
   "source": [
    "fig = {\n",
    "  \"data\": [\n",
    "    {\n",
    "      \"values\": [1744,1648,576,48,48,48,48,48],\n",
    "      \"labels\": ['Brown','Black','White','Orange',\"Purple\",\"Chocolate\",\"Yellow\",\"Buff\"],\n",
    "      \"domain\": {\"column\": 0},\n",
    "      \"name\": \"Edible Mushrooms\",\n",
    "      \"hoverinfo\":\"label+percent+name\",\n",
    "      \"type\": \"pie\",\n",
    "         \"hole\": .4,\n",
    "        'marker': {'colors': ['brown', 'black', 'white', 'orange',\"purple\",\"sienna\",\"yellow\",\"peru\"],\n",
    "                  \"line\":{\"color\":'#000000',\"width\":2}}\n",
    "    },\n",
    "    {\n",
    "      \"values\": [1812,1584,224,224,72],\n",
    "      \"labels\": [\"White\",\"Chocolate\",\"Brown\",\"Black\",\"Green\"],   \n",
    "      \"domain\": {\"column\": 1},\n",
    "      \"name\": \"Poisonous Mushrooms\",\n",
    "      \"hoverinfo\":\"label+percent+name\",\n",
    "         \"hole\": .4,\n",
    "      \"type\": \"pie\",\n",
    "        \"marker\": {\"colors\":[\"white\",\"sienna\",\"brown\",\"black\",\"green\"],\n",
    "                  \"line\":{\"color\":'#000000',\"width\":2}}\n",
    "\n",
    "    }],\n",
    "  \"layout\": {\n",
    "      \n",
    "        \"title\":\"Edible and Poisonous Mushrooms Spore Print Color Percentages\",\n",
    "        \"grid\": {\"rows\": 1, \"columns\": 2},\n",
    "        \"annotations\": [\n",
    "            {\n",
    "                \"font\": {\n",
    "                    \"size\": 20\n",
    "                },\n",
    "                \"showarrow\": False,\n",
    "                \"text\": \"Edible\",\n",
    "                \"x\": 0.20,\n",
    "                \"y\": 1.05\n",
    "            },\n",
    "            {\n",
    "                \"font\": {\n",
    "                    \"size\": 20\n",
    "                },\n",
    "                \"showarrow\": False,\n",
    "                \"text\": \"Poisonous\",\n",
    "                \"x\": 0.85,\n",
    "                \"y\": 1.05\n",
    "            }\n",
    "        ]\n",
    "    }\n",
    "}\n",
    "#iplot(fig)\n",
    "#go.Figure.write_image(fig,\"file.jpeg\")\n",
    "#files.download(\"file.png\")\n",
    "#iplot(fig,image = 'svg', filename = 'foo.svg')\n",
    "#fig.write_image(\"test.jpeg\")\n",
    "#iplot(fig)\n",
    "#plotly.offline.plot({“data”: dataPanda,\n",
    "#“layout”: layout1},\n",
    "#image=‘jpeg’, image_filename=“test”, auto_open=False,output_type=‘file’\n",
    "#fig.write_image(\"images/fig1.jpeg\")\n",
    "#fig.write_html(\"path/to/file.html\")\n",
    "#fig = go.Figure(data=data, layout=layout)\n",
    "#py.iplot(fig, filename='jupyter-Edible and Poisonous Mushrooms Spore Print Color Percentages')\n",
    "fig.write_image(\"fig1.png\")"
   ]
  },
  {
   "cell_type": "code",
   "execution_count": null,
   "id": "d1de9785",
   "metadata": {},
   "outputs": [],
   "source": []
  },
  {
   "cell_type": "code",
   "execution_count": null,
   "id": "2a960a91",
   "metadata": {},
   "outputs": [],
   "source": []
  },
  {
   "cell_type": "code",
   "execution_count": null,
   "id": "c3176244",
   "metadata": {},
   "outputs": [],
   "source": []
  }
 ],
 "metadata": {
  "kernelspec": {
   "display_name": "Python 3 (ipykernel)",
   "language": "python",
   "name": "python3"
  },
  "language_info": {
   "codemirror_mode": {
    "name": "ipython",
    "version": 3
   },
   "file_extension": ".py",
   "mimetype": "text/x-python",
   "name": "python",
   "nbconvert_exporter": "python",
   "pygments_lexer": "ipython3",
   "version": "3.9.12"
  }
 },
 "nbformat": 4,
 "nbformat_minor": 5
}
